{
 "cells": [
  {
   "attachments": {},
   "cell_type": "markdown",
   "id": "b89718cb",
   "metadata": {},
   "source": [
    "# Исследование сервиса аренды самокатов GoFast"
   ]
  },
  {
   "attachments": {},
   "cell_type": "markdown",
   "id": "2508b2be",
   "metadata": {},
   "source": [
    "Для сервиса аренды самокатов GoFast необходимо проанализировать данные и проверить некоторые гипотезы, которые могут помочь бизнесу вырасти. Для этого нам передали данные о некоторых пользователях из нескольких городов, а также об их поездках. Сервисом можно пользоваться без подписки (абонентская плата отсутствует) и с подпиской (плата за аренду самоката ниже)."
   ]
  },
  {
   "attachments": {},
   "cell_type": "markdown",
   "id": "5d0ff9ce",
   "metadata": {},
   "source": [
    "**Описание тарифов**:\n",
    "- без подписки\n",
    "  * абонентская плата отсутствует;\n",
    "  * стоимость одной минуты поездки — 8 рублей;\n",
    "  * стоимость старта (начала поездки) — 50 рублей;\n",
    "- с подпиской Ultra \n",
    "  * абонентская плата — 199 рублей в месяц;\n",
    "  * стоимость одной минуты поездки — 6 рублей;\n",
    "  * стоимость старта — бесплатно."
   ]
  },
  {
   "attachments": {},
   "cell_type": "markdown",
   "id": "1f092800",
   "metadata": {},
   "source": [
    "**Описание данных**\n",
    "\n",
    "В основных данных есть информация о пользователях, их поездках и подписках:\n",
    "\n",
    "- Пользователи — `users_go.csv`:\n",
    "  * `user_id`\tуникальный идентификатор пользователя\n",
    "  * `name`\tимя пользователя\n",
    "  * `age`\tвозраст\n",
    "  * `city` город\n",
    "  * `subscription_type` тип подписки (free, ultra)\n",
    "\n",
    "- Поездки — `rides_go.csv`:\n",
    "  * `user_id`\tуникальный идентификатор пользователя\n",
    "  * `distance`\tрасстояние, которое пользователь проехал в текущей сессии (в метрах)\n",
    "  * `duration`\tпродолжительность сессии (в минутах) — время с того момента, как пользователь нажал кнопку «Начать поездку» до момента, как он нажал кнопку «Завершить поездку»\n",
    "  * `date`\tдата совершения поездки\n",
    "\n",
    "- Подписки — `subscriptions_go.csv`:\n",
    "  * `subscription_type`\tтип подписки\n",
    "  * `minute_price`\tстоимость одной минуты поездки по данной подписке\n",
    "  * `start_ride_price`\tстоимость начала поездки\n",
    "  * `subscription_fee`\tстоимость ежемесячного платежа"
   ]
  },
  {
   "cell_type": "code",
   "execution_count": 1,
   "id": "72576667",
   "metadata": {},
   "outputs": [],
   "source": [
    "import pandas as pd\n",
    "import matplotlib.pyplot as plt\n",
    "from scipy import stats as st\n",
    "import numpy as np\n",
    "from math import sqrt"
   ]
  },
  {
   "attachments": {},
   "cell_type": "markdown",
   "id": "c42cbe00",
   "metadata": {},
   "source": [
    "## Загрузка данных"
   ]
  },
  {
   "cell_type": "code",
   "execution_count": 2,
   "id": "eff9f206",
   "metadata": {},
   "outputs": [],
   "source": [
    "# Загрузка данных\n",
    "df_users = pd.read_csv('/datasets/users_go.csv')\n",
    "df_rides = pd.read_csv('/datasets/rides_go.csv')\n",
    "df_subsc = pd.read_csv('/datasets/subscriptions_go.csv')"
   ]
  },
  {
   "cell_type": "code",
   "execution_count": 3,
   "id": "2af21b79",
   "metadata": {},
   "outputs": [
    {
     "data": {
      "text/html": [
       "<div>\n",
       "<style scoped>\n",
       "    .dataframe tbody tr th:only-of-type {\n",
       "        vertical-align: middle;\n",
       "    }\n",
       "\n",
       "    .dataframe tbody tr th {\n",
       "        vertical-align: top;\n",
       "    }\n",
       "\n",
       "    .dataframe thead th {\n",
       "        text-align: right;\n",
       "    }\n",
       "</style>\n",
       "<table border=\"1\" class=\"dataframe\">\n",
       "  <thead>\n",
       "    <tr style=\"text-align: right;\">\n",
       "      <th></th>\n",
       "      <th>user_id</th>\n",
       "      <th>name</th>\n",
       "      <th>age</th>\n",
       "      <th>city</th>\n",
       "      <th>subscription_type</th>\n",
       "    </tr>\n",
       "  </thead>\n",
       "  <tbody>\n",
       "    <tr>\n",
       "      <th>0</th>\n",
       "      <td>1</td>\n",
       "      <td>Кира</td>\n",
       "      <td>22</td>\n",
       "      <td>Тюмень</td>\n",
       "      <td>ultra</td>\n",
       "    </tr>\n",
       "    <tr>\n",
       "      <th>1</th>\n",
       "      <td>2</td>\n",
       "      <td>Станислав</td>\n",
       "      <td>31</td>\n",
       "      <td>Омск</td>\n",
       "      <td>ultra</td>\n",
       "    </tr>\n",
       "    <tr>\n",
       "      <th>2</th>\n",
       "      <td>3</td>\n",
       "      <td>Алексей</td>\n",
       "      <td>20</td>\n",
       "      <td>Москва</td>\n",
       "      <td>ultra</td>\n",
       "    </tr>\n",
       "    <tr>\n",
       "      <th>3</th>\n",
       "      <td>4</td>\n",
       "      <td>Константин</td>\n",
       "      <td>26</td>\n",
       "      <td>Ростов-на-Дону</td>\n",
       "      <td>ultra</td>\n",
       "    </tr>\n",
       "    <tr>\n",
       "      <th>4</th>\n",
       "      <td>5</td>\n",
       "      <td>Адель</td>\n",
       "      <td>28</td>\n",
       "      <td>Омск</td>\n",
       "      <td>ultra</td>\n",
       "    </tr>\n",
       "    <tr>\n",
       "      <th>5</th>\n",
       "      <td>6</td>\n",
       "      <td>Регина</td>\n",
       "      <td>25</td>\n",
       "      <td>Краснодар</td>\n",
       "      <td>ultra</td>\n",
       "    </tr>\n",
       "    <tr>\n",
       "      <th>6</th>\n",
       "      <td>7</td>\n",
       "      <td>Игорь</td>\n",
       "      <td>23</td>\n",
       "      <td>Омск</td>\n",
       "      <td>ultra</td>\n",
       "    </tr>\n",
       "    <tr>\n",
       "      <th>7</th>\n",
       "      <td>8</td>\n",
       "      <td>Юрий</td>\n",
       "      <td>23</td>\n",
       "      <td>Краснодар</td>\n",
       "      <td>ultra</td>\n",
       "    </tr>\n",
       "    <tr>\n",
       "      <th>8</th>\n",
       "      <td>9</td>\n",
       "      <td>Ян</td>\n",
       "      <td>21</td>\n",
       "      <td>Пятигорск</td>\n",
       "      <td>ultra</td>\n",
       "    </tr>\n",
       "    <tr>\n",
       "      <th>9</th>\n",
       "      <td>10</td>\n",
       "      <td>Валерий</td>\n",
       "      <td>18</td>\n",
       "      <td>Екатеринбург</td>\n",
       "      <td>ultra</td>\n",
       "    </tr>\n",
       "    <tr>\n",
       "      <th>10</th>\n",
       "      <td>11</td>\n",
       "      <td>Агата</td>\n",
       "      <td>31</td>\n",
       "      <td>Краснодар</td>\n",
       "      <td>ultra</td>\n",
       "    </tr>\n",
       "    <tr>\n",
       "      <th>11</th>\n",
       "      <td>12</td>\n",
       "      <td>Марк</td>\n",
       "      <td>27</td>\n",
       "      <td>Тюмень</td>\n",
       "      <td>ultra</td>\n",
       "    </tr>\n",
       "    <tr>\n",
       "      <th>12</th>\n",
       "      <td>13</td>\n",
       "      <td>Ева</td>\n",
       "      <td>24</td>\n",
       "      <td>Краснодар</td>\n",
       "      <td>ultra</td>\n",
       "    </tr>\n",
       "    <tr>\n",
       "      <th>13</th>\n",
       "      <td>14</td>\n",
       "      <td>Антонина</td>\n",
       "      <td>18</td>\n",
       "      <td>Пятигорск</td>\n",
       "      <td>ultra</td>\n",
       "    </tr>\n",
       "    <tr>\n",
       "      <th>14</th>\n",
       "      <td>15</td>\n",
       "      <td>Валерия</td>\n",
       "      <td>24</td>\n",
       "      <td>Тюмень</td>\n",
       "      <td>ultra</td>\n",
       "    </tr>\n",
       "    <tr>\n",
       "      <th>15</th>\n",
       "      <td>16</td>\n",
       "      <td>Амалия</td>\n",
       "      <td>27</td>\n",
       "      <td>Краснодар</td>\n",
       "      <td>ultra</td>\n",
       "    </tr>\n",
       "    <tr>\n",
       "      <th>16</th>\n",
       "      <td>17</td>\n",
       "      <td>Даниил</td>\n",
       "      <td>29</td>\n",
       "      <td>Москва</td>\n",
       "      <td>ultra</td>\n",
       "    </tr>\n",
       "    <tr>\n",
       "      <th>17</th>\n",
       "      <td>18</td>\n",
       "      <td>Аделина</td>\n",
       "      <td>24</td>\n",
       "      <td>Сочи</td>\n",
       "      <td>ultra</td>\n",
       "    </tr>\n",
       "    <tr>\n",
       "      <th>18</th>\n",
       "      <td>19</td>\n",
       "      <td>Регина</td>\n",
       "      <td>32</td>\n",
       "      <td>Тюмень</td>\n",
       "      <td>ultra</td>\n",
       "    </tr>\n",
       "    <tr>\n",
       "      <th>19</th>\n",
       "      <td>20</td>\n",
       "      <td>Игорь</td>\n",
       "      <td>23</td>\n",
       "      <td>Омск</td>\n",
       "      <td>ultra</td>\n",
       "    </tr>\n",
       "  </tbody>\n",
       "</table>\n",
       "</div>"
      ],
      "text/plain": [
       "    user_id        name  age            city subscription_type\n",
       "0         1        Кира   22          Тюмень             ultra\n",
       "1         2   Станислав   31            Омск             ultra\n",
       "2         3     Алексей   20          Москва             ultra\n",
       "3         4  Константин   26  Ростов-на-Дону             ultra\n",
       "4         5       Адель   28            Омск             ultra\n",
       "5         6      Регина   25       Краснодар             ultra\n",
       "6         7       Игорь   23            Омск             ultra\n",
       "7         8        Юрий   23       Краснодар             ultra\n",
       "8         9          Ян   21       Пятигорск             ultra\n",
       "9        10     Валерий   18    Екатеринбург             ultra\n",
       "10       11       Агата   31       Краснодар             ultra\n",
       "11       12        Марк   27          Тюмень             ultra\n",
       "12       13         Ева   24       Краснодар             ultra\n",
       "13       14    Антонина   18       Пятигорск             ultra\n",
       "14       15     Валерия   24          Тюмень             ultra\n",
       "15       16      Амалия   27       Краснодар             ultra\n",
       "16       17      Даниил   29          Москва             ultra\n",
       "17       18     Аделина   24            Сочи             ultra\n",
       "18       19      Регина   32          Тюмень             ultra\n",
       "19       20       Игорь   23            Омск             ultra"
      ]
     },
     "metadata": {},
     "output_type": "display_data"
    },
    {
     "data": {
      "text/plain": [
       "'------------'"
      ]
     },
     "metadata": {},
     "output_type": "display_data"
    },
    {
     "name": "stdout",
     "output_type": "stream",
     "text": [
      "<class 'pandas.core.frame.DataFrame'>\n",
      "RangeIndex: 1565 entries, 0 to 1564\n",
      "Data columns (total 5 columns):\n",
      " #   Column             Non-Null Count  Dtype \n",
      "---  ------             --------------  ----- \n",
      " 0   user_id            1565 non-null   int64 \n",
      " 1   name               1565 non-null   object\n",
      " 2   age                1565 non-null   int64 \n",
      " 3   city               1565 non-null   object\n",
      " 4   subscription_type  1565 non-null   object\n",
      "dtypes: int64(2), object(3)\n",
      "memory usage: 61.3+ KB\n"
     ]
    }
   ],
   "source": [
    "# Обзор даных по датафреймам\n",
    "display(df_users.head(20))\n",
    "display('------------')\n",
    "df_users.info()"
   ]
  },
  {
   "attachments": {},
   "cell_type": "markdown",
   "id": "f389fddb",
   "metadata": {},
   "source": [
    "Пропуски в `df_users` отсутствуют. Типы данных соотвествуют значениям столбцов."
   ]
  },
  {
   "cell_type": "code",
   "execution_count": 4,
   "id": "175c676d",
   "metadata": {},
   "outputs": [
    {
     "data": {
      "text/html": [
       "<div>\n",
       "<style scoped>\n",
       "    .dataframe tbody tr th:only-of-type {\n",
       "        vertical-align: middle;\n",
       "    }\n",
       "\n",
       "    .dataframe tbody tr th {\n",
       "        vertical-align: top;\n",
       "    }\n",
       "\n",
       "    .dataframe thead th {\n",
       "        text-align: right;\n",
       "    }\n",
       "</style>\n",
       "<table border=\"1\" class=\"dataframe\">\n",
       "  <thead>\n",
       "    <tr style=\"text-align: right;\">\n",
       "      <th></th>\n",
       "      <th>user_id</th>\n",
       "      <th>distance</th>\n",
       "      <th>duration</th>\n",
       "      <th>date</th>\n",
       "    </tr>\n",
       "  </thead>\n",
       "  <tbody>\n",
       "    <tr>\n",
       "      <th>0</th>\n",
       "      <td>1</td>\n",
       "      <td>4409.919140</td>\n",
       "      <td>25.599769</td>\n",
       "      <td>2021-01-01</td>\n",
       "    </tr>\n",
       "    <tr>\n",
       "      <th>1</th>\n",
       "      <td>1</td>\n",
       "      <td>2617.592153</td>\n",
       "      <td>15.816871</td>\n",
       "      <td>2021-01-18</td>\n",
       "    </tr>\n",
       "    <tr>\n",
       "      <th>2</th>\n",
       "      <td>1</td>\n",
       "      <td>754.159807</td>\n",
       "      <td>6.232113</td>\n",
       "      <td>2021-04-20</td>\n",
       "    </tr>\n",
       "    <tr>\n",
       "      <th>3</th>\n",
       "      <td>1</td>\n",
       "      <td>2694.783254</td>\n",
       "      <td>18.511000</td>\n",
       "      <td>2021-08-11</td>\n",
       "    </tr>\n",
       "    <tr>\n",
       "      <th>4</th>\n",
       "      <td>1</td>\n",
       "      <td>4028.687306</td>\n",
       "      <td>26.265803</td>\n",
       "      <td>2021-08-28</td>\n",
       "    </tr>\n",
       "    <tr>\n",
       "      <th>5</th>\n",
       "      <td>1</td>\n",
       "      <td>2770.890808</td>\n",
       "      <td>16.650138</td>\n",
       "      <td>2021-10-09</td>\n",
       "    </tr>\n",
       "    <tr>\n",
       "      <th>6</th>\n",
       "      <td>1</td>\n",
       "      <td>3039.020292</td>\n",
       "      <td>14.927879</td>\n",
       "      <td>2021-10-19</td>\n",
       "    </tr>\n",
       "    <tr>\n",
       "      <th>7</th>\n",
       "      <td>1</td>\n",
       "      <td>2842.118050</td>\n",
       "      <td>23.117468</td>\n",
       "      <td>2021-11-06</td>\n",
       "    </tr>\n",
       "    <tr>\n",
       "      <th>8</th>\n",
       "      <td>1</td>\n",
       "      <td>3412.690668</td>\n",
       "      <td>15.238072</td>\n",
       "      <td>2021-11-14</td>\n",
       "    </tr>\n",
       "    <tr>\n",
       "      <th>9</th>\n",
       "      <td>1</td>\n",
       "      <td>748.690645</td>\n",
       "      <td>15.041884</td>\n",
       "      <td>2021-11-22</td>\n",
       "    </tr>\n",
       "    <tr>\n",
       "      <th>10</th>\n",
       "      <td>1</td>\n",
       "      <td>4031.020195</td>\n",
       "      <td>17.674448</td>\n",
       "      <td>2021-12-14</td>\n",
       "    </tr>\n",
       "    <tr>\n",
       "      <th>11</th>\n",
       "      <td>1</td>\n",
       "      <td>2720.609748</td>\n",
       "      <td>9.529463</td>\n",
       "      <td>2021-12-22</td>\n",
       "    </tr>\n",
       "    <tr>\n",
       "      <th>12</th>\n",
       "      <td>2</td>\n",
       "      <td>3105.086678</td>\n",
       "      <td>24.307514</td>\n",
       "      <td>2021-03-15</td>\n",
       "    </tr>\n",
       "    <tr>\n",
       "      <th>13</th>\n",
       "      <td>2</td>\n",
       "      <td>3053.519401</td>\n",
       "      <td>11.543256</td>\n",
       "      <td>2021-03-18</td>\n",
       "    </tr>\n",
       "    <tr>\n",
       "      <th>14</th>\n",
       "      <td>2</td>\n",
       "      <td>4029.116927</td>\n",
       "      <td>25.109188</td>\n",
       "      <td>2021-03-23</td>\n",
       "    </tr>\n",
       "    <tr>\n",
       "      <th>15</th>\n",
       "      <td>2</td>\n",
       "      <td>2805.786329</td>\n",
       "      <td>20.652145</td>\n",
       "      <td>2021-04-08</td>\n",
       "    </tr>\n",
       "    <tr>\n",
       "      <th>16</th>\n",
       "      <td>2</td>\n",
       "      <td>3358.595495</td>\n",
       "      <td>18.396489</td>\n",
       "      <td>2021-04-13</td>\n",
       "    </tr>\n",
       "    <tr>\n",
       "      <th>17</th>\n",
       "      <td>2</td>\n",
       "      <td>3255.338202</td>\n",
       "      <td>13.851127</td>\n",
       "      <td>2021-06-20</td>\n",
       "    </tr>\n",
       "    <tr>\n",
       "      <th>18</th>\n",
       "      <td>2</td>\n",
       "      <td>3942.817648</td>\n",
       "      <td>20.142725</td>\n",
       "      <td>2021-07-02</td>\n",
       "    </tr>\n",
       "    <tr>\n",
       "      <th>19</th>\n",
       "      <td>2</td>\n",
       "      <td>2837.905316</td>\n",
       "      <td>26.027432</td>\n",
       "      <td>2021-07-18</td>\n",
       "    </tr>\n",
       "  </tbody>\n",
       "</table>\n",
       "</div>"
      ],
      "text/plain": [
       "    user_id     distance   duration        date\n",
       "0         1  4409.919140  25.599769  2021-01-01\n",
       "1         1  2617.592153  15.816871  2021-01-18\n",
       "2         1   754.159807   6.232113  2021-04-20\n",
       "3         1  2694.783254  18.511000  2021-08-11\n",
       "4         1  4028.687306  26.265803  2021-08-28\n",
       "5         1  2770.890808  16.650138  2021-10-09\n",
       "6         1  3039.020292  14.927879  2021-10-19\n",
       "7         1  2842.118050  23.117468  2021-11-06\n",
       "8         1  3412.690668  15.238072  2021-11-14\n",
       "9         1   748.690645  15.041884  2021-11-22\n",
       "10        1  4031.020195  17.674448  2021-12-14\n",
       "11        1  2720.609748   9.529463  2021-12-22\n",
       "12        2  3105.086678  24.307514  2021-03-15\n",
       "13        2  3053.519401  11.543256  2021-03-18\n",
       "14        2  4029.116927  25.109188  2021-03-23\n",
       "15        2  2805.786329  20.652145  2021-04-08\n",
       "16        2  3358.595495  18.396489  2021-04-13\n",
       "17        2  3255.338202  13.851127  2021-06-20\n",
       "18        2  3942.817648  20.142725  2021-07-02\n",
       "19        2  2837.905316  26.027432  2021-07-18"
      ]
     },
     "metadata": {},
     "output_type": "display_data"
    },
    {
     "data": {
      "text/plain": [
       "'------------'"
      ]
     },
     "metadata": {},
     "output_type": "display_data"
    },
    {
     "name": "stdout",
     "output_type": "stream",
     "text": [
      "<class 'pandas.core.frame.DataFrame'>\n",
      "RangeIndex: 18068 entries, 0 to 18067\n",
      "Data columns (total 4 columns):\n",
      " #   Column    Non-Null Count  Dtype  \n",
      "---  ------    --------------  -----  \n",
      " 0   user_id   18068 non-null  int64  \n",
      " 1   distance  18068 non-null  float64\n",
      " 2   duration  18068 non-null  float64\n",
      " 3   date      18068 non-null  object \n",
      "dtypes: float64(2), int64(1), object(1)\n",
      "memory usage: 564.8+ KB\n"
     ]
    }
   ],
   "source": [
    "display(df_rides.head(20))\n",
    "display('------------')\n",
    "df_rides.info()"
   ]
  },
  {
   "attachments": {},
   "cell_type": "markdown",
   "id": "9453716c",
   "metadata": {},
   "source": [
    "Пропуски в `df_rides` отсутствуют. Типы данных соответствуют значениям столбцов, кроме столбца `date`."
   ]
  },
  {
   "cell_type": "code",
   "execution_count": 5,
   "id": "84c72ff9",
   "metadata": {},
   "outputs": [
    {
     "data": {
      "text/html": [
       "<div>\n",
       "<style scoped>\n",
       "    .dataframe tbody tr th:only-of-type {\n",
       "        vertical-align: middle;\n",
       "    }\n",
       "\n",
       "    .dataframe tbody tr th {\n",
       "        vertical-align: top;\n",
       "    }\n",
       "\n",
       "    .dataframe thead th {\n",
       "        text-align: right;\n",
       "    }\n",
       "</style>\n",
       "<table border=\"1\" class=\"dataframe\">\n",
       "  <thead>\n",
       "    <tr style=\"text-align: right;\">\n",
       "      <th></th>\n",
       "      <th>subscription_type</th>\n",
       "      <th>minute_price</th>\n",
       "      <th>start_ride_price</th>\n",
       "      <th>subscription_fee</th>\n",
       "    </tr>\n",
       "  </thead>\n",
       "  <tbody>\n",
       "    <tr>\n",
       "      <th>0</th>\n",
       "      <td>free</td>\n",
       "      <td>8</td>\n",
       "      <td>50</td>\n",
       "      <td>0</td>\n",
       "    </tr>\n",
       "    <tr>\n",
       "      <th>1</th>\n",
       "      <td>ultra</td>\n",
       "      <td>6</td>\n",
       "      <td>0</td>\n",
       "      <td>199</td>\n",
       "    </tr>\n",
       "  </tbody>\n",
       "</table>\n",
       "</div>"
      ],
      "text/plain": [
       "  subscription_type  minute_price  start_ride_price  subscription_fee\n",
       "0              free             8                50                 0\n",
       "1             ultra             6                 0               199"
      ]
     },
     "metadata": {},
     "output_type": "display_data"
    },
    {
     "data": {
      "text/plain": [
       "'------------'"
      ]
     },
     "metadata": {},
     "output_type": "display_data"
    },
    {
     "name": "stdout",
     "output_type": "stream",
     "text": [
      "<class 'pandas.core.frame.DataFrame'>\n",
      "RangeIndex: 2 entries, 0 to 1\n",
      "Data columns (total 4 columns):\n",
      " #   Column             Non-Null Count  Dtype \n",
      "---  ------             --------------  ----- \n",
      " 0   subscription_type  2 non-null      object\n",
      " 1   minute_price       2 non-null      int64 \n",
      " 2   start_ride_price   2 non-null      int64 \n",
      " 3   subscription_fee   2 non-null      int64 \n",
      "dtypes: int64(3), object(1)\n",
      "memory usage: 192.0+ bytes\n"
     ]
    }
   ],
   "source": [
    "display(df_subsc)\n",
    "display('------------')\n",
    "df_subsc.info()"
   ]
  },
  {
   "attachments": {},
   "cell_type": "markdown",
   "id": "8d8d4693",
   "metadata": {},
   "source": [
    "Пропуски в `df_subsc` отсутствуют. Типы данных соотвествуют значениям столбцов."
   ]
  },
  {
   "attachments": {},
   "cell_type": "markdown",
   "id": "e95ebca7",
   "metadata": {},
   "source": [
    "## Предобработка данных"
   ]
  },
  {
   "cell_type": "code",
   "execution_count": 6,
   "id": "af6d202c",
   "metadata": {},
   "outputs": [],
   "source": [
    "# Приведем столбец date датафрейма df_rides к типу данных date\n",
    "df_rides['date'] = pd.to_datetime(df_rides['date'], format='%Y-%m-%d')"
   ]
  },
  {
   "cell_type": "code",
   "execution_count": 7,
   "id": "1a57718c",
   "metadata": {},
   "outputs": [],
   "source": [
    "# Создадим новый столбец с номером месяца df_rides \n",
    "df_rides['month_num'] = df_rides['date'].dt.month "
   ]
  },
  {
   "cell_type": "code",
   "execution_count": 8,
   "id": "7eec41c2",
   "metadata": {},
   "outputs": [
    {
     "name": "stdout",
     "output_type": "stream",
     "text": [
      "Число явных дубликатов в df_users:  31\n",
      "Число явных дубликатов в df_rides:  0\n",
      "Число явных дубликатов в df_subsc:  0\n"
     ]
    }
   ],
   "source": [
    "# Проверка на наличие явных дубликатов\n",
    "print('Число явных дубликатов в df_users: ', df_users.duplicated().sum())\n",
    "print('Число явных дубликатов в df_rides: ', df_rides.duplicated().sum())\n",
    "print('Число явных дубликатов в df_subsc: ', df_subsc.duplicated().sum())"
   ]
  },
  {
   "cell_type": "code",
   "execution_count": 9,
   "id": "00ca59a9",
   "metadata": {},
   "outputs": [],
   "source": [
    "# Устраним явные дубликаты в df_users\n",
    "df_users = df_users.drop_duplicates()"
   ]
  },
  {
   "attachments": {},
   "cell_type": "markdown",
   "id": "6d66aeff",
   "metadata": {},
   "source": [
    "**Вывод**: В ходе предобработки данных выяснилось, что в 1 из 3 датафреймов (`df_users`) содержатся строки-дубликаты, которые були удалены. К дублированию строк возможно привел какой-то сбой в работе сервиса."
   ]
  },
  {
   "attachments": {},
   "cell_type": "markdown",
   "id": "212593c7",
   "metadata": {},
   "source": [
    "## Исследовательский анализ данных"
   ]
  },
  {
   "attachments": {},
   "cell_type": "markdown",
   "id": "0d1cb85b",
   "metadata": {},
   "source": [
    "### Частота встречаемости городов"
   ]
  },
  {
   "cell_type": "code",
   "execution_count": 10,
   "id": "a9f2d78f",
   "metadata": {
    "scrolled": true
   },
   "outputs": [
    {
     "data": {
      "text/plain": [
       "Text(0.5, 0, 'Город')"
      ]
     },
     "execution_count": 10,
     "metadata": {},
     "output_type": "execute_result"
    },
    {
     "data": {
      "image/png": "[encoded data removed]",
      "text/plain": [
       "<Figure size 432x288 with 1 Axes>"
      ]
     },
     "metadata": {
      "needs_background": "light"
     },
     "output_type": "display_data"
    }
   ],
   "source": [
    "# Выведем основные стат. данные\n",
    "df_users.groupby('city').count()['user_id'].sort_values().plot(kind='bar')\n",
    "# Добавим название\n",
    "plt.title('Число пользователей по городам', fontsize=15)\n",
    "# Changing the x-axis label\n",
    "plt.xlabel('Город', fontsize=12)"
   ]
  },
  {
   "cell_type": "code",
   "execution_count": 11,
   "id": "58d2d047",
   "metadata": {},
   "outputs": [
    {
     "data": {
      "text/plain": [
       "city\n",
       "Москва            168\n",
       "Тюмень            180\n",
       "Омск              183\n",
       "Сочи              189\n",
       "Краснодар         193\n",
       "Ростов-на-Дону    198\n",
       "Екатеринбург      204\n",
       "Пятигорск         219\n",
       "Name: user_id, dtype: int64"
      ]
     },
     "execution_count": 11,
     "metadata": {},
     "output_type": "execute_result"
    }
   ],
   "source": [
    "# Добавим таблицу с соответ. данными по городам\n",
    "df_users.groupby('city').count()['user_id'].sort_values()"
   ]
  },
  {
   "attachments": {},
   "cell_type": "markdown",
   "id": "0cedf624",
   "metadata": {},
   "source": [
    "### Соотношение пользователей с подпиской и без подписки**"
   ]
  },
  {
   "cell_type": "code",
   "execution_count": 12,
   "id": "0f588785",
   "metadata": {},
   "outputs": [
    {
     "data": {
      "text/plain": [
       "Text(0, 0.5, '')"
      ]
     },
     "execution_count": 12,
     "metadata": {},
     "output_type": "execute_result"
    },
    {
     "data": {
      "image/png": "[encoded data removed]",
      "text/plain": [
       "<Figure size 432x432 with 1 Axes>"
      ]
     },
     "metadata": {},
     "output_type": "display_data"
    }
   ],
   "source": [
    "# Построим график\n",
    "df_users.groupby('subscription_type').count()['user_id'].plot(\n",
    "    kind='pie',\n",
    "    fontsize=15,\n",
    "    explode=(0.05, 0), \n",
    "    figsize=(6,6), \n",
    "    title='Соотношение пользователей с подпиской (ultra) и без (free)',\n",
    "    autopct = '%1.1f%%' \n",
    ").set_ylabel('')"
   ]
  },
  {
   "attachments": {},
   "cell_type": "markdown",
   "id": "e05e9711",
   "metadata": {},
   "source": [
    "### Возраст пользователей"
   ]
  },
  {
   "cell_type": "code",
   "execution_count": 13,
   "id": "a8341263",
   "metadata": {},
   "outputs": [
    {
     "data": {
      "text/plain": [
       "Text(0.5, 0, 'Возраст, лет')"
      ]
     },
     "execution_count": 13,
     "metadata": {},
     "output_type": "execute_result"
    },
    {
     "data": {
      "image/png": "[encoded data removed]",
      "text/plain": [
       "<Figure size 864x360 with 1 Axes>"
      ]
     },
     "metadata": {
      "needs_background": "light"
     },
     "output_type": "display_data"
    }
   ],
   "source": [
    "df_users.groupby('age').count()['user_id'].plot(kind='bar', figsize=(12,5))\n",
    "plt.title('Возраст пользователей', fontsize=15)\n",
    "plt.xlabel('Возраст, лет', fontsize=12)"
   ]
  },
  {
   "attachments": {},
   "cell_type": "markdown",
   "id": "11c0f268",
   "metadata": {},
   "source": [
    "Средний возраст пользователя составил 25 лет."
   ]
  },
  {
   "cell_type": "code",
   "execution_count": 14,
   "id": "f8a16e2c",
   "metadata": {},
   "outputs": [
    {
     "data": {
      "text/plain": [
       "count    1534.000000\n",
       "mean       24.903520\n",
       "std         4.572367\n",
       "min        12.000000\n",
       "25%        22.000000\n",
       "50%        25.000000\n",
       "75%        28.000000\n",
       "max        43.000000\n",
       "Name: age, dtype: float64"
      ]
     },
     "execution_count": 14,
     "metadata": {},
     "output_type": "execute_result"
    }
   ],
   "source": [
    "# Добавим также статистические данные по данному параметру\n",
    "df_users['age'].describe()"
   ]
  },
  {
   "attachments": {},
   "cell_type": "markdown",
   "id": "fdbd4186",
   "metadata": {},
   "source": [
    "### Расстояние, которое пользователь преодолел за одну поездку"
   ]
  },
  {
   "cell_type": "code",
   "execution_count": 15,
   "id": "e8be08e2",
   "metadata": {},
   "outputs": [
    {
     "data": {
      "text/plain": [
       "count    18068.000000\n",
       "mean      3070.659976\n",
       "std       1116.831209\n",
       "min          0.855683\n",
       "25%       2543.226360\n",
       "50%       3133.609994\n",
       "75%       3776.222735\n",
       "max       7211.007745\n",
       "Name: distance, dtype: float64"
      ]
     },
     "execution_count": 15,
     "metadata": {},
     "output_type": "execute_result"
    }
   ],
   "source": [
    "df_rides['distance'].describe()"
   ]
  },
  {
   "cell_type": "code",
   "execution_count": 16,
   "id": "2658ea0e",
   "metadata": {},
   "outputs": [
    {
     "data": {
      "text/plain": [
       "Text(0.5, 1.0, 'Histogram (дистанция поездки)')"
      ]
     },
     "execution_count": 16,
     "metadata": {},
     "output_type": "execute_result"
    },
    {
     "data": {
      "image/png": "[encoded data removed]",
      "text/plain": [
       "<Figure size 864x360 with 2 Axes>"
      ]
     },
     "metadata": {
      "needs_background": "light"
     },
     "output_type": "display_data"
    }
   ],
   "source": [
    "# Постороим графики на одном \"полотне\"\n",
    "fig, axes = plt.subplots(nrows=1, ncols=2, figsize=(12, 5))\n",
    "\n",
    "axes[0].set_ylim(500, 6000)\n",
    "df_rides.boxplot(column=\"distance\", ax=axes[0])\n",
    "axes[0].set_title('Boxplot (дистанция поездки)')\n",
    "\n",
    "df_rides[\"distance\"].hist(bins=50, ax=axes[1])\n",
    "axes[1].set_title('Histogram (дистанция поездки)')\n",
    "\n",
    "# Усы - 693,7317975 и 5625,7172975"
   ]
  },
  {
   "attachments": {},
   "cell_type": "markdown",
   "id": "7479ee4a",
   "metadata": {},
   "source": [
    "### Продолжительность поездок"
   ]
  },
  {
   "cell_type": "code",
   "execution_count": 17,
   "id": "4aeebb41",
   "metadata": {},
   "outputs": [
    {
     "data": {
      "text/plain": [
       "count    18068.000000\n",
       "mean        17.805011\n",
       "std          6.091051\n",
       "min          0.500000\n",
       "25%         13.597563\n",
       "50%         17.678395\n",
       "75%         21.724800\n",
       "max         40.823963\n",
       "Name: duration, dtype: float64"
      ]
     },
     "execution_count": 17,
     "metadata": {},
     "output_type": "execute_result"
    }
   ],
   "source": [
    "df_rides['duration'].describe()"
   ]
  },
  {
   "cell_type": "code",
   "execution_count": 18,
   "id": "82ed2b25",
   "metadata": {},
   "outputs": [
    {
     "data": {
      "text/plain": [
       "Text(0.5, 1.0, 'Histogram (длительность поездки)')"
      ]
     },
     "execution_count": 18,
     "metadata": {},
     "output_type": "execute_result"
    },
    {
     "data": {
      "image/png": "[encoded data removed]",
      "text/plain": [
       "<Figure size 864x360 with 2 Axes>"
      ]
     },
     "metadata": {
      "needs_background": "light"
     },
     "output_type": "display_data"
    }
   ],
   "source": [
    "# Постороим графики на одном \"полотне\"\n",
    "fig, axes = plt.subplots(nrows=1, ncols=2, figsize=(12, 5))\n",
    "\n",
    "axes[0].set_ylim(0, 35)\n",
    "df_rides.boxplot(column=\"duration\", ax=axes[0])\n",
    "axes[0].set_title('Boxplot (длительность поездки)')\n",
    "\n",
    "df_rides[\"duration\"].hist(bins=50, ax=axes[1])\n",
    "axes[1].set_title('Histogram (длительность поездки)')\n",
    "\n",
    "# Усы - 1,406707 и 33.915655"
   ]
  },
  {
   "attachments": {},
   "cell_type": "markdown",
   "id": "ad39b085",
   "metadata": {},
   "source": [
    "**Вывод**: В ходе исследовательского анализа выяснилось, что чаще всего сервисом пользуются в провинции, а реже в столице, при этом число пользователей с подпиской на 9% меньше числа пользователей без нее. Среднее расстояние преодолеваемое пользователем самоката составило 3133м, а среднее время примерно 18 минут. "
   ]
  },
  {
   "attachments": {},
   "cell_type": "markdown",
   "id": "4ef51331",
   "metadata": {},
   "source": [
    "## Объединение данных"
   ]
  },
  {
   "cell_type": "code",
   "execution_count": 19,
   "id": "6bf288b5",
   "metadata": {
    "scrolled": false
   },
   "outputs": [
    {
     "data": {
      "text/html": [
       "<div>\n",
       "<style scoped>\n",
       "    .dataframe tbody tr th:only-of-type {\n",
       "        vertical-align: middle;\n",
       "    }\n",
       "\n",
       "    .dataframe tbody tr th {\n",
       "        vertical-align: top;\n",
       "    }\n",
       "\n",
       "    .dataframe thead th {\n",
       "        text-align: right;\n",
       "    }\n",
       "</style>\n",
       "<table border=\"1\" class=\"dataframe\">\n",
       "  <thead>\n",
       "    <tr style=\"text-align: right;\">\n",
       "      <th></th>\n",
       "      <th>user_id</th>\n",
       "      <th>name</th>\n",
       "      <th>age</th>\n",
       "      <th>city</th>\n",
       "      <th>subscription_type</th>\n",
       "      <th>distance</th>\n",
       "      <th>duration</th>\n",
       "      <th>date</th>\n",
       "      <th>month_num</th>\n",
       "      <th>minute_price</th>\n",
       "      <th>start_ride_price</th>\n",
       "      <th>subscription_fee</th>\n",
       "    </tr>\n",
       "  </thead>\n",
       "  <tbody>\n",
       "    <tr>\n",
       "      <th>0</th>\n",
       "      <td>1</td>\n",
       "      <td>Кира</td>\n",
       "      <td>22</td>\n",
       "      <td>Тюмень</td>\n",
       "      <td>ultra</td>\n",
       "      <td>4409.919140</td>\n",
       "      <td>25.599769</td>\n",
       "      <td>2021-01-01</td>\n",
       "      <td>1</td>\n",
       "      <td>6</td>\n",
       "      <td>0</td>\n",
       "      <td>199</td>\n",
       "    </tr>\n",
       "    <tr>\n",
       "      <th>1</th>\n",
       "      <td>1</td>\n",
       "      <td>Кира</td>\n",
       "      <td>22</td>\n",
       "      <td>Тюмень</td>\n",
       "      <td>ultra</td>\n",
       "      <td>2617.592153</td>\n",
       "      <td>15.816871</td>\n",
       "      <td>2021-01-18</td>\n",
       "      <td>1</td>\n",
       "      <td>6</td>\n",
       "      <td>0</td>\n",
       "      <td>199</td>\n",
       "    </tr>\n",
       "    <tr>\n",
       "      <th>2</th>\n",
       "      <td>1</td>\n",
       "      <td>Кира</td>\n",
       "      <td>22</td>\n",
       "      <td>Тюмень</td>\n",
       "      <td>ultra</td>\n",
       "      <td>754.159807</td>\n",
       "      <td>6.232113</td>\n",
       "      <td>2021-04-20</td>\n",
       "      <td>4</td>\n",
       "      <td>6</td>\n",
       "      <td>0</td>\n",
       "      <td>199</td>\n",
       "    </tr>\n",
       "    <tr>\n",
       "      <th>3</th>\n",
       "      <td>1</td>\n",
       "      <td>Кира</td>\n",
       "      <td>22</td>\n",
       "      <td>Тюмень</td>\n",
       "      <td>ultra</td>\n",
       "      <td>2694.783254</td>\n",
       "      <td>18.511000</td>\n",
       "      <td>2021-08-11</td>\n",
       "      <td>8</td>\n",
       "      <td>6</td>\n",
       "      <td>0</td>\n",
       "      <td>199</td>\n",
       "    </tr>\n",
       "    <tr>\n",
       "      <th>4</th>\n",
       "      <td>1</td>\n",
       "      <td>Кира</td>\n",
       "      <td>22</td>\n",
       "      <td>Тюмень</td>\n",
       "      <td>ultra</td>\n",
       "      <td>4028.687306</td>\n",
       "      <td>26.265803</td>\n",
       "      <td>2021-08-28</td>\n",
       "      <td>8</td>\n",
       "      <td>6</td>\n",
       "      <td>0</td>\n",
       "      <td>199</td>\n",
       "    </tr>\n",
       "    <tr>\n",
       "      <th>5</th>\n",
       "      <td>1</td>\n",
       "      <td>Кира</td>\n",
       "      <td>22</td>\n",
       "      <td>Тюмень</td>\n",
       "      <td>ultra</td>\n",
       "      <td>2770.890808</td>\n",
       "      <td>16.650138</td>\n",
       "      <td>2021-10-09</td>\n",
       "      <td>10</td>\n",
       "      <td>6</td>\n",
       "      <td>0</td>\n",
       "      <td>199</td>\n",
       "    </tr>\n",
       "    <tr>\n",
       "      <th>6</th>\n",
       "      <td>1</td>\n",
       "      <td>Кира</td>\n",
       "      <td>22</td>\n",
       "      <td>Тюмень</td>\n",
       "      <td>ultra</td>\n",
       "      <td>3039.020292</td>\n",
       "      <td>14.927879</td>\n",
       "      <td>2021-10-19</td>\n",
       "      <td>10</td>\n",
       "      <td>6</td>\n",
       "      <td>0</td>\n",
       "      <td>199</td>\n",
       "    </tr>\n",
       "    <tr>\n",
       "      <th>7</th>\n",
       "      <td>1</td>\n",
       "      <td>Кира</td>\n",
       "      <td>22</td>\n",
       "      <td>Тюмень</td>\n",
       "      <td>ultra</td>\n",
       "      <td>2842.118050</td>\n",
       "      <td>23.117468</td>\n",
       "      <td>2021-11-06</td>\n",
       "      <td>11</td>\n",
       "      <td>6</td>\n",
       "      <td>0</td>\n",
       "      <td>199</td>\n",
       "    </tr>\n",
       "    <tr>\n",
       "      <th>8</th>\n",
       "      <td>1</td>\n",
       "      <td>Кира</td>\n",
       "      <td>22</td>\n",
       "      <td>Тюмень</td>\n",
       "      <td>ultra</td>\n",
       "      <td>3412.690668</td>\n",
       "      <td>15.238072</td>\n",
       "      <td>2021-11-14</td>\n",
       "      <td>11</td>\n",
       "      <td>6</td>\n",
       "      <td>0</td>\n",
       "      <td>199</td>\n",
       "    </tr>\n",
       "    <tr>\n",
       "      <th>9</th>\n",
       "      <td>1</td>\n",
       "      <td>Кира</td>\n",
       "      <td>22</td>\n",
       "      <td>Тюмень</td>\n",
       "      <td>ultra</td>\n",
       "      <td>748.690645</td>\n",
       "      <td>15.041884</td>\n",
       "      <td>2021-11-22</td>\n",
       "      <td>11</td>\n",
       "      <td>6</td>\n",
       "      <td>0</td>\n",
       "      <td>199</td>\n",
       "    </tr>\n",
       "  </tbody>\n",
       "</table>\n",
       "</div>"
      ],
      "text/plain": [
       "   user_id  name  age    city subscription_type     distance   duration  \\\n",
       "0        1  Кира   22  Тюмень             ultra  4409.919140  25.599769   \n",
       "1        1  Кира   22  Тюмень             ultra  2617.592153  15.816871   \n",
       "2        1  Кира   22  Тюмень             ultra   754.159807   6.232113   \n",
       "3        1  Кира   22  Тюмень             ultra  2694.783254  18.511000   \n",
       "4        1  Кира   22  Тюмень             ultra  4028.687306  26.265803   \n",
       "5        1  Кира   22  Тюмень             ultra  2770.890808  16.650138   \n",
       "6        1  Кира   22  Тюмень             ultra  3039.020292  14.927879   \n",
       "7        1  Кира   22  Тюмень             ultra  2842.118050  23.117468   \n",
       "8        1  Кира   22  Тюмень             ultra  3412.690668  15.238072   \n",
       "9        1  Кира   22  Тюмень             ultra   748.690645  15.041884   \n",
       "\n",
       "        date  month_num  minute_price  start_ride_price  subscription_fee  \n",
       "0 2021-01-01          1             6                 0               199  \n",
       "1 2021-01-18          1             6                 0               199  \n",
       "2 2021-04-20          4             6                 0               199  \n",
       "3 2021-08-11          8             6                 0               199  \n",
       "4 2021-08-28          8             6                 0               199  \n",
       "5 2021-10-09         10             6                 0               199  \n",
       "6 2021-10-19         10             6                 0               199  \n",
       "7 2021-11-06         11             6                 0               199  \n",
       "8 2021-11-14         11             6                 0               199  \n",
       "9 2021-11-22         11             6                 0               199  "
      ]
     },
     "execution_count": 19,
     "metadata": {},
     "output_type": "execute_result"
    }
   ],
   "source": [
    "# Объединение данных о пользователях, поездках и подписках в один датафрейм\n",
    "df_total = df_users.merge(df_rides, on='user_id').merge(df_subsc, on='subscription_type')\n",
    "df_total.head(10)"
   ]
  },
  {
   "cell_type": "code",
   "execution_count": 20,
   "id": "56440d03",
   "metadata": {},
   "outputs": [],
   "source": [
    "# Датафреймы с данными о пользователях с подпиской и без\n",
    "df_no_sub = df_total.query('subscription_type != \"ultra\"')\n",
    "df_sub = df_total.query('subscription_type == \"ultra\"')"
   ]
  },
  {
   "cell_type": "code",
   "execution_count": 21,
   "id": "6ebb9cbf",
   "metadata": {},
   "outputs": [
    {
     "data": {
      "text/plain": [
       "18068"
      ]
     },
     "metadata": {},
     "output_type": "display_data"
    },
    {
     "data": {
      "text/plain": [
       "18068"
      ]
     },
     "metadata": {},
     "output_type": "display_data"
    }
   ],
   "source": [
    "# Проверим размерность полученных, чтобы убедиться, что ничего не потерялось\n",
    "display(df_no_sub.shape[0] + df_sub.shape[0])\n",
    "display(df_total.shape[0])"
   ]
  },
  {
   "cell_type": "code",
   "execution_count": 22,
   "id": "e2b09009",
   "metadata": {},
   "outputs": [
    {
     "data": {
      "image/png": "[encoded data removed]",
      "text/plain": [
       "<Figure size 864x360 with 2 Axes>"
      ]
     },
     "metadata": {
      "needs_background": "light"
     },
     "output_type": "display_data"
    }
   ],
   "source": [
    "# Время поездки для пользователей с подпиской и без\n",
    "fig, axes = plt.subplots(nrows=1, ncols=2, figsize=(12, 5))\n",
    "\n",
    "ax0 = df_no_sub.plot(\n",
    "    kind='hist',\n",
    "    y='duration',\n",
    "    histtype='step',\n",
    "    bins=50,\n",
    "    linewidth=5,\n",
    "    alpha=0.7,\n",
    "    label='free',\n",
    "    ax = axes[0]\n",
    ")\n",
    "df_sub.plot(\n",
    "    kind='hist',\n",
    "    y='duration',\n",
    "    histtype='step',\n",
    "    bins=50,\n",
    "    linewidth=5,\n",
    "    alpha=0.7,\n",
    "    label='ultra',\n",
    "    ax=ax0,\n",
    "    grid=True,\n",
    "    legend=True,\n",
    ")\n",
    "axes[0].set_title('Histogram (длительность поездки)')\n",
    "\n",
    "ax1 = df_no_sub.plot(\n",
    "    kind='hist',\n",
    "    y='distance',\n",
    "    histtype='step',\n",
    "    bins=50,\n",
    "    linewidth=5,\n",
    "    alpha=0.7,\n",
    "    label='free',\n",
    "    ax=axes[1],\n",
    ")\n",
    "df_sub.plot(\n",
    "    kind='hist',\n",
    "    y='distance',\n",
    "    histtype='step',\n",
    "    bins=50,\n",
    "    linewidth=5,\n",
    "    alpha=0.7,\n",
    "    label='ultra',\n",
    "    ax=ax1,\n",
    "    grid=True,\n",
    "    legend=True,\n",
    ")\n",
    "axes[1].set_title('Histogram (длительность поездки)')\n",
    "\n",
    "plt.show()"
   ]
  },
  {
   "attachments": {},
   "cell_type": "markdown",
   "id": "c3088941",
   "metadata": {},
   "source": [
    "**Вывод:** В данном разделе были объединены данные из 3 отдельных датафреймов и из них получены 2 новые: датафреймы с полной информации о пользователях с подпиской и без. По построенной выше паре гистограмм: длительности поездок (`duration`) видно что пользователи с подпиской и без в среднем тратят на поездку одинаковое кол-во времени (18 и 17 мин соответ.). Из гистограммы дистанций (`distance`): пользователи с подпиской и без в среднем проезжают примерно одинаковое расстояние (3148 и 3114 метров соответ.). "
   ]
  },
  {
   "attachments": {},
   "cell_type": "markdown",
   "id": "402d620f",
   "metadata": {},
   "source": [
    "## Подсчёт выручки"
   ]
  },
  {
   "cell_type": "code",
   "execution_count": 23,
   "id": "bcb156d1",
   "metadata": {},
   "outputs": [],
   "source": [
    "df_total['duration'] = np.ceil(df_total['duration']) # округлим до целого согл. ТЗ"
   ]
  },
  {
   "cell_type": "code",
   "execution_count": 24,
   "id": "1752996e",
   "metadata": {},
   "outputs": [
    {
     "data": {
      "text/html": [
       "<div>\n",
       "<style scoped>\n",
       "    .dataframe tbody tr th:only-of-type {\n",
       "        vertical-align: middle;\n",
       "    }\n",
       "\n",
       "    .dataframe tbody tr th {\n",
       "        vertical-align: top;\n",
       "    }\n",
       "\n",
       "    .dataframe thead th {\n",
       "        text-align: right;\n",
       "    }\n",
       "</style>\n",
       "<table border=\"1\" class=\"dataframe\">\n",
       "  <thead>\n",
       "    <tr style=\"text-align: right;\">\n",
       "      <th></th>\n",
       "      <th>user_id</th>\n",
       "      <th>month_num</th>\n",
       "      <th>subscription_type</th>\n",
       "      <th>total_distance</th>\n",
       "      <th>total_duration</th>\n",
       "      <th>count</th>\n",
       "    </tr>\n",
       "  </thead>\n",
       "  <tbody>\n",
       "    <tr>\n",
       "      <th>0</th>\n",
       "      <td>1</td>\n",
       "      <td>1</td>\n",
       "      <td>ultra</td>\n",
       "      <td>7027.511294</td>\n",
       "      <td>42.0</td>\n",
       "      <td>2</td>\n",
       "    </tr>\n",
       "    <tr>\n",
       "      <th>1</th>\n",
       "      <td>1</td>\n",
       "      <td>4</td>\n",
       "      <td>ultra</td>\n",
       "      <td>754.159807</td>\n",
       "      <td>7.0</td>\n",
       "      <td>1</td>\n",
       "    </tr>\n",
       "    <tr>\n",
       "      <th>2</th>\n",
       "      <td>1</td>\n",
       "      <td>8</td>\n",
       "      <td>ultra</td>\n",
       "      <td>6723.470560</td>\n",
       "      <td>46.0</td>\n",
       "      <td>2</td>\n",
       "    </tr>\n",
       "    <tr>\n",
       "      <th>3</th>\n",
       "      <td>1</td>\n",
       "      <td>10</td>\n",
       "      <td>ultra</td>\n",
       "      <td>5809.911100</td>\n",
       "      <td>32.0</td>\n",
       "      <td>2</td>\n",
       "    </tr>\n",
       "    <tr>\n",
       "      <th>4</th>\n",
       "      <td>1</td>\n",
       "      <td>11</td>\n",
       "      <td>ultra</td>\n",
       "      <td>7003.499363</td>\n",
       "      <td>56.0</td>\n",
       "      <td>3</td>\n",
       "    </tr>\n",
       "    <tr>\n",
       "      <th>5</th>\n",
       "      <td>1</td>\n",
       "      <td>12</td>\n",
       "      <td>ultra</td>\n",
       "      <td>6751.629942</td>\n",
       "      <td>28.0</td>\n",
       "      <td>2</td>\n",
       "    </tr>\n",
       "    <tr>\n",
       "      <th>6</th>\n",
       "      <td>2</td>\n",
       "      <td>3</td>\n",
       "      <td>ultra</td>\n",
       "      <td>10187.723006</td>\n",
       "      <td>63.0</td>\n",
       "      <td>3</td>\n",
       "    </tr>\n",
       "    <tr>\n",
       "      <th>7</th>\n",
       "      <td>2</td>\n",
       "      <td>4</td>\n",
       "      <td>ultra</td>\n",
       "      <td>6164.381824</td>\n",
       "      <td>40.0</td>\n",
       "      <td>2</td>\n",
       "    </tr>\n",
       "    <tr>\n",
       "      <th>8</th>\n",
       "      <td>2</td>\n",
       "      <td>6</td>\n",
       "      <td>ultra</td>\n",
       "      <td>3255.338202</td>\n",
       "      <td>14.0</td>\n",
       "      <td>1</td>\n",
       "    </tr>\n",
       "    <tr>\n",
       "      <th>9</th>\n",
       "      <td>2</td>\n",
       "      <td>7</td>\n",
       "      <td>ultra</td>\n",
       "      <td>6780.722964</td>\n",
       "      <td>48.0</td>\n",
       "      <td>2</td>\n",
       "    </tr>\n",
       "  </tbody>\n",
       "</table>\n",
       "</div>"
      ],
      "text/plain": [
       "   user_id  month_num subscription_type  total_distance  total_duration  count\n",
       "0        1          1             ultra     7027.511294            42.0      2\n",
       "1        1          4             ultra      754.159807             7.0      1\n",
       "2        1          8             ultra     6723.470560            46.0      2\n",
       "3        1         10             ultra     5809.911100            32.0      2\n",
       "4        1         11             ultra     7003.499363            56.0      3\n",
       "5        1         12             ultra     6751.629942            28.0      2\n",
       "6        2          3             ultra    10187.723006            63.0      3\n",
       "7        2          4             ultra     6164.381824            40.0      2\n",
       "8        2          6             ultra     3255.338202            14.0      1\n",
       "9        2          7             ultra     6780.722964            48.0      2"
      ]
     },
     "metadata": {},
     "output_type": "display_data"
    }
   ],
   "source": [
    "# Суммарное расстояние, время и кол-во поездок для каждого пользователя за каждый месяц\n",
    "df_sums = df_total.pivot_table(index=['user_id', 'month_num', 'subscription_type'], values=['distance', 'duration'], aggfunc={'distance': 'sum', 'duration': 'sum', 'user_id': 'count'})\n",
    "df_sums.columns = ['total_distance', 'total_duration', 'count']\n",
    "df_sums = df_sums.reset_index()\n",
    "display(df_sums.head(10))"
   ]
  },
  {
   "cell_type": "code",
   "execution_count": 25,
   "id": "3493e364",
   "metadata": {},
   "outputs": [
    {
     "data": {
      "text/html": [
       "<div>\n",
       "<style scoped>\n",
       "    .dataframe tbody tr th:only-of-type {\n",
       "        vertical-align: middle;\n",
       "    }\n",
       "\n",
       "    .dataframe tbody tr th {\n",
       "        vertical-align: top;\n",
       "    }\n",
       "\n",
       "    .dataframe thead th {\n",
       "        text-align: right;\n",
       "    }\n",
       "</style>\n",
       "<table border=\"1\" class=\"dataframe\">\n",
       "  <thead>\n",
       "    <tr style=\"text-align: right;\">\n",
       "      <th></th>\n",
       "      <th>user_id</th>\n",
       "      <th>month_num</th>\n",
       "      <th>subscription_type</th>\n",
       "      <th>total_distance</th>\n",
       "      <th>total_duration</th>\n",
       "      <th>count</th>\n",
       "      <th>month_profit</th>\n",
       "    </tr>\n",
       "  </thead>\n",
       "  <tbody>\n",
       "    <tr>\n",
       "      <th>0</th>\n",
       "      <td>1</td>\n",
       "      <td>1</td>\n",
       "      <td>ultra</td>\n",
       "      <td>7027.511294</td>\n",
       "      <td>42.0</td>\n",
       "      <td>2</td>\n",
       "      <td>451.0</td>\n",
       "    </tr>\n",
       "    <tr>\n",
       "      <th>1</th>\n",
       "      <td>1</td>\n",
       "      <td>4</td>\n",
       "      <td>ultra</td>\n",
       "      <td>754.159807</td>\n",
       "      <td>7.0</td>\n",
       "      <td>1</td>\n",
       "      <td>241.0</td>\n",
       "    </tr>\n",
       "    <tr>\n",
       "      <th>2</th>\n",
       "      <td>1</td>\n",
       "      <td>8</td>\n",
       "      <td>ultra</td>\n",
       "      <td>6723.470560</td>\n",
       "      <td>46.0</td>\n",
       "      <td>2</td>\n",
       "      <td>475.0</td>\n",
       "    </tr>\n",
       "    <tr>\n",
       "      <th>3</th>\n",
       "      <td>1</td>\n",
       "      <td>10</td>\n",
       "      <td>ultra</td>\n",
       "      <td>5809.911100</td>\n",
       "      <td>32.0</td>\n",
       "      <td>2</td>\n",
       "      <td>391.0</td>\n",
       "    </tr>\n",
       "    <tr>\n",
       "      <th>4</th>\n",
       "      <td>1</td>\n",
       "      <td>11</td>\n",
       "      <td>ultra</td>\n",
       "      <td>7003.499363</td>\n",
       "      <td>56.0</td>\n",
       "      <td>3</td>\n",
       "      <td>535.0</td>\n",
       "    </tr>\n",
       "    <tr>\n",
       "      <th>5</th>\n",
       "      <td>1</td>\n",
       "      <td>12</td>\n",
       "      <td>ultra</td>\n",
       "      <td>6751.629942</td>\n",
       "      <td>28.0</td>\n",
       "      <td>2</td>\n",
       "      <td>367.0</td>\n",
       "    </tr>\n",
       "    <tr>\n",
       "      <th>6</th>\n",
       "      <td>2</td>\n",
       "      <td>3</td>\n",
       "      <td>ultra</td>\n",
       "      <td>10187.723006</td>\n",
       "      <td>63.0</td>\n",
       "      <td>3</td>\n",
       "      <td>577.0</td>\n",
       "    </tr>\n",
       "    <tr>\n",
       "      <th>7</th>\n",
       "      <td>2</td>\n",
       "      <td>4</td>\n",
       "      <td>ultra</td>\n",
       "      <td>6164.381824</td>\n",
       "      <td>40.0</td>\n",
       "      <td>2</td>\n",
       "      <td>439.0</td>\n",
       "    </tr>\n",
       "    <tr>\n",
       "      <th>8</th>\n",
       "      <td>2</td>\n",
       "      <td>6</td>\n",
       "      <td>ultra</td>\n",
       "      <td>3255.338202</td>\n",
       "      <td>14.0</td>\n",
       "      <td>1</td>\n",
       "      <td>283.0</td>\n",
       "    </tr>\n",
       "    <tr>\n",
       "      <th>9</th>\n",
       "      <td>2</td>\n",
       "      <td>7</td>\n",
       "      <td>ultra</td>\n",
       "      <td>6780.722964</td>\n",
       "      <td>48.0</td>\n",
       "      <td>2</td>\n",
       "      <td>487.0</td>\n",
       "    </tr>\n",
       "  </tbody>\n",
       "</table>\n",
       "</div>"
      ],
      "text/plain": [
       "   user_id  month_num subscription_type  total_distance  total_duration  \\\n",
       "0        1          1             ultra     7027.511294            42.0   \n",
       "1        1          4             ultra      754.159807             7.0   \n",
       "2        1          8             ultra     6723.470560            46.0   \n",
       "3        1         10             ultra     5809.911100            32.0   \n",
       "4        1         11             ultra     7003.499363            56.0   \n",
       "5        1         12             ultra     6751.629942            28.0   \n",
       "6        2          3             ultra    10187.723006            63.0   \n",
       "7        2          4             ultra     6164.381824            40.0   \n",
       "8        2          6             ultra     3255.338202            14.0   \n",
       "9        2          7             ultra     6780.722964            48.0   \n",
       "\n",
       "   count  month_profit  \n",
       "0      2         451.0  \n",
       "1      1         241.0  \n",
       "2      2         475.0  \n",
       "3      2         391.0  \n",
       "4      3         535.0  \n",
       "5      2         367.0  \n",
       "6      3         577.0  \n",
       "7      2         439.0  \n",
       "8      1         283.0  \n",
       "9      2         487.0  "
      ]
     },
     "metadata": {},
     "output_type": "display_data"
    }
   ],
   "source": [
    "def month_prof(row):\n",
    "    count = row['count']\n",
    "    total_duration = row['total_duration']\n",
    "    sub_type = row['subscription_type']\n",
    "    start_price = df_subsc.query('subscription_type == @sub_type')['start_ride_price'].values[0]\n",
    "    minute_price = df_subsc.query('subscription_type == @sub_type')['minute_price'].values[0] \n",
    "    sub_fee = df_subsc.query('subscription_type == @sub_type')['subscription_fee'].values[0]\n",
    "\n",
    "    return start_price * count + minute_price * total_duration + sub_fee\n",
    "   \n",
    "df_sums['month_profit'] = df_sums.apply(month_prof, axis=1)\n",
    "display(df_sums.head(10))"
   ]
  },
  {
   "attachments": {},
   "cell_type": "markdown",
   "id": "a99c9397",
   "metadata": {},
   "source": [
    "**Вывод:** С помощью функции была получена информация о помесячной выручке на основе датафрефма агрегированных данных с суммарным расстоянием, количеством поездок и суммарным временем для каждого пользователя за каждый месяц. "
   ]
  },
  {
   "attachments": {},
   "cell_type": "markdown",
   "id": "41545ac0",
   "metadata": {},
   "source": [
    "## Проверка гипотез"
   ]
  },
  {
   "attachments": {},
   "cell_type": "markdown",
   "id": "35e1d78d",
   "metadata": {},
   "source": [
    "### Проверка гипотезы о большей продолжительности поездки для пользователей с подпиской"
   ]
  },
  {
   "attachments": {},
   "cell_type": "markdown",
   "id": "dc59c5c0",
   "metadata": {},
   "source": [
    "H0 (нулевая гипотеза) - предположение о том, что средняя продолжительность поездки пользователей с подпиской не отличается (равна) от таковой у пользователей без подписки.\n",
    "\n",
    "H1 (альтернативная гипотеза) - предположение о том, что средняя продолжительность поездки пользователей с подпиской больше чем у пользователей без подписки."
   ]
  },
  {
   "cell_type": "code",
   "execution_count": 26,
   "id": "a4016693",
   "metadata": {},
   "outputs": [
    {
     "name": "stdout",
     "output_type": "stream",
     "text": [
      "p-value:  2.4959453720736625e-34\n",
      "Нулевая гипотеза отвергается\n"
     ]
    }
   ],
   "source": [
    "df_sub = df_total.query('subscription_type == \"ultra\"')['duration']\n",
    "df_nosub = df_total.query('subscription_type == \"free\"')['duration']\n",
    "alpha = 0.05 # уровень стат значимости\n",
    "\n",
    "results = st.ttest_ind(df_sub, df_nosub, alternative='greater')\n",
    "\n",
    "print('p-value: ', results.pvalue)\n",
    "if results.pvalue < alpha:\n",
    "    print('Нулевая гипотеза отвергается')\n",
    "else:\n",
    "    print('Нулевая гипотеза не отвергается')"
   ]
  },
  {
   "attachments": {},
   "cell_type": "markdown",
   "id": "06be0477",
   "metadata": {},
   "source": [
    "Нулевая гипотеза о равенстве средних 2-ух совокупностей отвергается - есть основания полагать, что пользователи с подпиской тратят больше времени на поездку, чем пользователи без нее."
   ]
  },
  {
   "attachments": {},
   "cell_type": "markdown",
   "id": "a3683013",
   "metadata": {},
   "source": [
    "### Проверка гипотезы о том, что среднее расстояние у пользователя с подпиской за поездку не более 3130м"
   ]
  },
  {
   "attachments": {},
   "cell_type": "markdown",
   "id": "82080701",
   "metadata": {},
   "source": [
    "H0 (нулевая гипотеза) - предположение о том, что среднее расстояние у пользователей с подпиской составляет 3130м.\n",
    "\n",
    "H1 (альтернативная гипотеза) - предположение о том, что среднее расстояние у пользователей с подпиской больше 3130м."
   ]
  },
  {
   "cell_type": "code",
   "execution_count": 27,
   "id": "ada2670c",
   "metadata": {},
   "outputs": [
    {
     "name": "stdout",
     "output_type": "stream",
     "text": [
      "p-value:  0.9195368847849785\n",
      "Нулевая гипотеза не отвергается\n"
     ]
    }
   ],
   "source": [
    "\n",
    "df_sub_dist = df_total.query('subscription_type == \"ultra\"')['distance']\n",
    "dist_limit = 3130\n",
    "alpha = 0.05 \n",
    "\n",
    "results = st.ttest_1samp(df_sub_dist, dist_limit, alternative='greater')\n",
    "\n",
    "print('p-value: ', results.pvalue)\n",
    "if (results.pvalue < alpha):\n",
    "    print('Нулевая гипотеза отвергается')\n",
    "else:\n",
    "    print('Нулевая гипотеза не отвергается')"
   ]
  },
  {
   "attachments": {},
   "cell_type": "markdown",
   "id": "808623f3",
   "metadata": {},
   "source": [
    "Значение p-value больше уровня стат. значимости, поэтому нулевая гипотеза не отвергается - пользователи с подпиской в среднем проезжают не более 3130м за поездку. "
   ]
  },
  {
   "attachments": {},
   "cell_type": "markdown",
   "id": "88d8c9da",
   "metadata": {},
   "source": [
    "### Проверка гипотезы о большей помесячной выручке от пользователей с подпиской (по месяцам)"
   ]
  },
  {
   "attachments": {},
   "cell_type": "markdown",
   "id": "5e2c80d5",
   "metadata": {},
   "source": [
    "H0 (нулевая гипотеза) - предположение о том, что помесячная выручка от пользователей с подпиской не отличается (равна) от таковой у пользователей без подписки.\n",
    "\n",
    "H1 (альтернативная гипотеза) - предположение о том, что помесячная выручка от пользователей с подпиской больше чем у пользователей без подписки."
   ]
  },
  {
   "cell_type": "code",
   "execution_count": 28,
   "id": "addee968",
   "metadata": {},
   "outputs": [
    {
     "name": "stdout",
     "output_type": "stream",
     "text": [
      "p-value:  1.8850394384715216e-31\n",
      "Нулевая гипотеза отвергается\n"
     ]
    }
   ],
   "source": [
    "df_sub_profit = df_sums.query('subscription_type == \"ultra\"')['month_profit']\n",
    "df_nosub_profit = df_sums.query('subscription_type == \"free\"')['month_profit']\n",
    "alpha = 0.05\n",
    "\n",
    "results = st.ttest_ind(df_sub_profit, df_nosub_profit, alternative='greater')\n",
    "\n",
    "print('p-value: ', results.pvalue)\n",
    "if results.pvalue < alpha:\n",
    "    print('Нулевая гипотеза отвергается')\n",
    "else:\n",
    "    print('Нулевая гипотеза не отвергается')"
   ]
  },
  {
   "attachments": {},
   "cell_type": "markdown",
   "id": "87795d3e",
   "metadata": {},
   "source": [
    "Полученное значение p-value меньше заданного уровня значимости - нулевая гипотеза отвергается. Есть основания полагать, что помесячная выручка от пользователей с подпиской выше чем от пользователей без подписки.  "
   ]
  },
  {
   "attachments": {},
   "cell_type": "markdown",
   "id": "9cb2f3d7",
   "metadata": {},
   "source": [
    "**Представьте такую ситуацию: техническая команда сервиса обновила сервера, с которыми взаимодействует мобильное приложение. Она надеется, что из-за этого количество обращений в техподдержку значимо снизилось. Некоторый файл содержит для каждого пользователя данные о количестве обращений до обновления и после него. Какой тест вам понадобился бы для проверки этой гипотезы?**"
   ]
  },
  {
   "attachments": {},
   "cell_type": "markdown",
   "id": "c27c5db0",
   "metadata": {},
   "source": [
    "В данном сценарии описывается гипотеза о равенстве средних для зависимых (парных) выборок. Для проверки гипотезы в этом случае используется t-тест (статистический тест с использованием t-распределения Стьюдента) - мы использовали его для проверки вышеприведенных гипотез. Конкретно в данном случае должен быть использован метод `scipy.stats.ttest_rel()` - метод как раз для парных выборок."
   ]
  },
  {
   "attachments": {},
   "cell_type": "markdown",
   "id": "be491d18",
   "metadata": {},
   "source": [
    "**Вывод:** С использованием t-теста были приняты следущие гипотезы о пользователях с подпиской:\n",
    "* Они тратят больше времени на поездку, чем пользователи без нее\n",
    "* Они в среднем проезжают не более 3130м за поездку\n",
    "* Помесячная выручка от них выше чем от пользователей без подписки."
   ]
  },
  {
   "attachments": {},
   "cell_type": "markdown",
   "id": "61213c5e",
   "metadata": {},
   "source": [
    "## Распределения и статистические анализы промоакций"
   ]
  },
  {
   "attachments": {},
   "cell_type": "markdown",
   "id": "6bfcb68a",
   "metadata": {},
   "source": [
    "### Акция с раздачей промокодов на один бесплатный месяц подписки\n",
    "\n",
    "Данный сценарий описывается биноминальным распределением с параметрами *n* - кол-во испытаний (ровно с 2 исходами) и *p* - вер-ть успеха в каждом испытании. Согласно ТЗ нам предлагается использовать метод cdf(), который возвращает вероятность того, что случайная величина меньше заданного аргумента. Для биноминального распределения она выглядит так: "
   ]
  },
  {
   "attachments": {},
   "cell_type": "markdown",
   "id": "b00309c5",
   "metadata": {},
   "source": [
    "`binom.cdf(x, n, p)`, где `x` - это число успешных исходов - в нашем случае это 100 (число клиентов которые продлят подписку). Вообще данная функция возвращает нам вер-ть того, что будет получено `x` или меньше успешных исходов. Вер-ть не выполнить план должна составить 5% (т.е. менее 100 клиентов продлят подписку)."
   ]
  },
  {
   "cell_type": "code",
   "execution_count": 29,
   "id": "c1224101",
   "metadata": {},
   "outputs": [
    {
     "data": {
      "text/plain": [
       "5.151491673741622"
      ]
     },
     "metadata": {},
     "output_type": "display_data"
    }
   ],
   "source": [
    "x = 100\n",
    "p = 0.1\n",
    "n = 1170 # определено подбором\n",
    "\n",
    "prob_binom = st.binom.cdf(x, n, p)\n",
    "display(prob_binom*100)"
   ]
  },
  {
   "attachments": {},
   "cell_type": "markdown",
   "id": "ff213c39",
   "metadata": {},
   "source": [
    "Подбором с помощью функции binom.cdf(x, n, p) определили что необходимо раздать примерно 1170 промокодов."
   ]
  },
  {
   "attachments": {},
   "cell_type": "markdown",
   "id": "a8936a54",
   "metadata": {},
   "source": [
    "### Рассылка push-уведомлений\n",
    "Данный сценарий описывается также биноминальным распределением. Однако для упрощения расчетов будет лучше аппроксимировать его нормальным распределением. "
   ]
  },
  {
   "cell_type": "code",
   "execution_count": 30,
   "id": "dbfc7fc5",
   "metadata": {},
   "outputs": [
    {
     "data": {
      "text/plain": [
       "Text(0.5, 0, 'Число пользователей')"
      ]
     },
     "execution_count": 30,
     "metadata": {},
     "output_type": "execute_result"
    },
    {
     "data": {
      "image/png": "[encoded data removed]",
      "text/plain": [
       "<Figure size 432x288 with 1 Axes>"
      ]
     },
     "metadata": {
      "needs_background": "light"
     },
     "output_type": "display_data"
    }
   ],
   "source": [
    "# Параметры бином. распределения\n",
    "n = 1e6\n",
    "p = 0.4\n",
    "\n",
    "# Мат. ожидание и СКО норм. распределения принимаются равными соотв. значениям бином. распределения\n",
    "mu = n * p\n",
    "sigma = (n * p * (1 - p))**(1/2)\n",
    "\n",
    "# Норм. распределение и его график\n",
    "distr = st.norm(mu, sigma)\n",
    "x_values = np.linspace(mu - 3*sigma, mu + 3*sigma)\n",
    "plt.plot(x_values, distr.pdf(x_values), label='Normal Distribution')\n",
    "plt.title('Распределение по открытиям push-уведомлений')\n",
    "plt.xlabel('Число пользователей', fontsize=12)"
   ]
  },
  {
   "cell_type": "code",
   "execution_count": 31,
   "id": "5d3541ef",
   "metadata": {},
   "outputs": [
    {
     "data": {
      "text/plain": [
       "0.15371708296369768"
      ]
     },
     "metadata": {},
     "output_type": "display_data"
    }
   ],
   "source": [
    "# Оценим вер-ть того, что , уведомление откроют не более 399,5 тыс. пользователей\n",
    "result = distr.cdf(399500)\n",
    "display(result)"
   ]
  },
  {
   "attachments": {},
   "cell_type": "markdown",
   "id": "7e0c65b6",
   "metadata": {},
   "source": [
    "## Общие выводы"
   ]
  },
  {
   "attachments": {},
   "cell_type": "markdown",
   "id": "fe0167e8",
   "metadata": {},
   "source": [
    "Типичный пользователь сервиса аренды самокатов GoFast:\n",
    "* Находится в провинции\n",
    "* Не имееет подписки в сервисе\n",
    "* Возраст 25 лет\n",
    "* Проезжает 3133м\n",
    "* Тратит на поездку 17,6мин"
   ]
  },
  {
   "attachments": {},
   "cell_type": "markdown",
   "id": "603c2bb8",
   "metadata": {},
   "source": [
    "Пользователи с подпиской тратят на поездку чуть больше времени и проезжают чуть большее расстояние чем пользователи без подписки. Первое утверждение также было рассмотрено в виде гипотезы, которая в итоге оказалась принята. Также были рассмотрены гипотезы о том, что пользователи с подпиской пpоезжают менее 3130м (расстояние износа самоката) и помесячная выручка от них больше таковой от пользователей без подписки. "
   ]
  },
  {
   "attachments": {},
   "cell_type": "markdown",
   "id": "265b3a98",
   "metadata": {},
   "source": [
    "Из вышеприведенного можно заключить, что для сервиса наиболее выгоден пользователь с подпиской, так как доходы от данной категории выше, и при этом, несмотря на то что, они проезжают чуть большее расстояние чем обычные пользователи, они (пользователи с подпиской) не успевают выработать весь ресурс самоката. "
   ]
  },
  {
   "attachments": {},
   "cell_type": "markdown",
   "id": "9dcdc9f2",
   "metadata": {},
   "source": [
    "Также дополнительно был проведен анализ акции по раздаче промокодов на 1 месяц бесплатной подписки: для того, чтобы с 95% вероятностью как минимум 100 пользователей продлили платно подписку, будет необходимо разослать примерно 1170 промокодов. \n",
    "Дополнительно была определена вероятность того, что 399,5тыс клиентов сервиса откроют рассылаемые push-уведомления, которая составила 15% - в принципе, немного и на просмотр уведомлений 399,5 тыс. пользователей можно рассчитывать.  "
   ]
  }
 ],
 "metadata": {
  "ExecuteTimeLog": [
   {
    "duration": 1144,
    "start_time": "2023-12-02T10:35:17.782Z"
   },
   {
    "duration": 187,
    "start_time": "2023-12-02T10:35:18.928Z"
   },
   {
    "duration": 11,
    "start_time": "2023-12-02T10:35:21.171Z"
   },
   {
    "duration": 18,
    "start_time": "2023-12-02T10:35:41.986Z"
   },
   {
    "duration": 17,
    "start_time": "2023-12-02T10:35:55.122Z"
   },
   {
    "duration": 69,
    "start_time": "2023-12-02T10:36:02.838Z"
   },
   {
    "duration": 17,
    "start_time": "2023-12-02T10:36:07.490Z"
   },
   {
    "duration": 16,
    "start_time": "2023-12-02T10:40:38.015Z"
   },
   {
    "duration": 81,
    "start_time": "2023-12-02T10:42:56.426Z"
   },
   {
    "duration": 13,
    "start_time": "2023-12-02T10:43:43.029Z"
   },
   {
    "duration": 11,
    "start_time": "2023-12-02T10:44:25.870Z"
   },
   {
    "duration": 70,
    "start_time": "2023-12-02T10:45:51.828Z"
   },
   {
    "duration": 6,
    "start_time": "2023-12-02T11:20:01.741Z"
   },
   {
    "duration": 8,
    "start_time": "2023-12-02T11:20:12.568Z"
   },
   {
    "duration": 4,
    "start_time": "2023-12-02T11:31:49.337Z"
   },
   {
    "duration": 75,
    "start_time": "2023-12-02T11:32:04.402Z"
   },
   {
    "duration": 7,
    "start_time": "2023-12-02T11:32:06.780Z"
   },
   {
    "duration": 81,
    "start_time": "2023-12-02T11:35:38.802Z"
   },
   {
    "duration": 6,
    "start_time": "2023-12-02T11:35:43.275Z"
   },
   {
    "duration": 6,
    "start_time": "2023-12-02T11:35:50.389Z"
   },
   {
    "duration": 6,
    "start_time": "2023-12-02T11:36:06.385Z"
   },
   {
    "duration": 6,
    "start_time": "2023-12-02T11:49:51.362Z"
   },
   {
    "duration": 6,
    "start_time": "2023-12-02T11:50:04.783Z"
   },
   {
    "duration": 6,
    "start_time": "2023-12-02T11:50:27.582Z"
   },
   {
    "duration": 5,
    "start_time": "2023-12-02T11:50:39.046Z"
   },
   {
    "duration": 5,
    "start_time": "2023-12-02T11:50:45.163Z"
   },
   {
    "duration": 5,
    "start_time": "2023-12-02T11:50:57.772Z"
   },
   {
    "duration": 4,
    "start_time": "2023-12-02T11:51:03.114Z"
   },
   {
    "duration": 12,
    "start_time": "2023-12-02T11:51:24.354Z"
   },
   {
    "duration": 8,
    "start_time": "2023-12-02T11:51:44.887Z"
   },
   {
    "duration": 4,
    "start_time": "2023-12-02T11:54:16.472Z"
   },
   {
    "duration": 8,
    "start_time": "2023-12-02T11:54:27.299Z"
   },
   {
    "duration": 8,
    "start_time": "2023-12-02T12:01:17.680Z"
   },
   {
    "duration": 5,
    "start_time": "2023-12-02T13:16:42.768Z"
   },
   {
    "duration": 112,
    "start_time": "2023-12-02T13:16:59.081Z"
   },
   {
    "duration": 4,
    "start_time": "2023-12-02T15:02:57.481Z"
   },
   {
    "duration": 3220,
    "start_time": "2023-12-02T15:03:09.678Z"
   },
   {
    "duration": 3,
    "start_time": "2023-12-02T15:04:11.215Z"
   },
   {
    "duration": 8,
    "start_time": "2023-12-02T15:04:48.588Z"
   },
   {
    "duration": 6,
    "start_time": "2023-12-02T15:05:32.246Z"
   },
   {
    "duration": 103,
    "start_time": "2023-12-02T15:05:48.052Z"
   },
   {
    "duration": 10,
    "start_time": "2023-12-02T15:06:39.577Z"
   },
   {
    "duration": 8,
    "start_time": "2023-12-02T15:06:47.659Z"
   },
   {
    "duration": 6,
    "start_time": "2023-12-02T15:06:51.844Z"
   },
   {
    "duration": 272,
    "start_time": "2023-12-02T15:06:56.557Z"
   },
   {
    "duration": 5,
    "start_time": "2023-12-02T15:10:57.031Z"
   },
   {
    "duration": 8,
    "start_time": "2023-12-02T15:11:13.439Z"
   },
   {
    "duration": 104,
    "start_time": "2023-12-02T15:11:23.479Z"
   },
   {
    "duration": 4,
    "start_time": "2023-12-02T15:23:20.468Z"
   },
   {
    "duration": 6,
    "start_time": "2023-12-02T15:23:26.529Z"
   },
   {
    "duration": 87,
    "start_time": "2023-12-02T15:23:33.168Z"
   },
   {
    "duration": 7,
    "start_time": "2023-12-02T15:23:49.985Z"
   },
   {
    "duration": 6,
    "start_time": "2023-12-02T15:26:53.791Z"
   },
   {
    "duration": 178,
    "start_time": "2023-12-02T15:27:26.505Z"
   },
   {
    "duration": 5,
    "start_time": "2023-12-02T15:28:20.434Z"
   },
   {
    "duration": 11,
    "start_time": "2023-12-02T15:28:41.677Z"
   },
   {
    "duration": 9,
    "start_time": "2023-12-02T15:28:46.781Z"
   },
   {
    "duration": 5,
    "start_time": "2023-12-02T15:28:50.577Z"
   },
   {
    "duration": 9,
    "start_time": "2023-12-02T15:29:55.946Z"
   },
   {
    "duration": 10,
    "start_time": "2023-12-02T15:30:11.134Z"
   },
   {
    "duration": 6,
    "start_time": "2023-12-02T15:30:17.157Z"
   },
   {
    "duration": 6,
    "start_time": "2023-12-02T15:30:21.873Z"
   },
   {
    "duration": 199,
    "start_time": "2023-12-02T15:31:03.386Z"
   },
   {
    "duration": 15,
    "start_time": "2023-12-02T15:41:57.727Z"
   },
   {
    "duration": 16,
    "start_time": "2023-12-02T15:42:05.822Z"
   },
   {
    "duration": 12,
    "start_time": "2023-12-02T15:42:10.301Z"
   },
   {
    "duration": 11,
    "start_time": "2023-12-02T15:42:32.250Z"
   },
   {
    "duration": 12,
    "start_time": "2023-12-02T15:42:37.047Z"
   },
   {
    "duration": 103,
    "start_time": "2023-12-02T15:44:24.972Z"
   },
   {
    "duration": 90,
    "start_time": "2023-12-02T15:44:57.586Z"
   },
   {
    "duration": 94,
    "start_time": "2023-12-02T15:45:15.957Z"
   },
   {
    "duration": 111,
    "start_time": "2023-12-02T15:47:16.314Z"
   },
   {
    "duration": 100,
    "start_time": "2023-12-02T15:47:34.846Z"
   },
   {
    "duration": 5,
    "start_time": "2023-12-02T15:48:17.257Z"
   },
   {
    "duration": 7,
    "start_time": "2023-12-02T15:48:23.667Z"
   },
   {
    "duration": 175,
    "start_time": "2023-12-02T15:59:29.271Z"
   },
   {
    "duration": 48,
    "start_time": "2023-12-02T18:44:20.008Z"
   },
   {
    "duration": 1274,
    "start_time": "2023-12-02T18:44:26.378Z"
   },
   {
    "duration": 197,
    "start_time": "2023-12-02T18:44:27.654Z"
   },
   {
    "duration": 22,
    "start_time": "2023-12-02T18:44:27.853Z"
   },
   {
    "duration": 17,
    "start_time": "2023-12-02T18:44:27.877Z"
   },
   {
    "duration": 14,
    "start_time": "2023-12-02T18:44:27.896Z"
   },
   {
    "duration": 30,
    "start_time": "2023-12-02T18:44:27.912Z"
   },
   {
    "duration": 8,
    "start_time": "2023-12-02T18:44:27.944Z"
   },
   {
    "duration": 10,
    "start_time": "2023-12-02T18:44:27.954Z"
   },
   {
    "duration": 4,
    "start_time": "2023-12-02T18:44:27.966Z"
   },
   {
    "duration": 175,
    "start_time": "2023-12-02T18:44:27.971Z"
   },
   {
    "duration": 129,
    "start_time": "2023-12-02T18:44:28.147Z"
   },
   {
    "duration": 260,
    "start_time": "2023-12-02T18:44:28.278Z"
   },
   {
    "duration": 10,
    "start_time": "2023-12-02T18:44:28.542Z"
   },
   {
    "duration": 307,
    "start_time": "2023-12-02T18:44:31.095Z"
   },
   {
    "duration": 206,
    "start_time": "2023-12-02T18:44:55.196Z"
   },
   {
    "duration": 226,
    "start_time": "2023-12-02T18:45:06.438Z"
   },
   {
    "duration": 218,
    "start_time": "2023-12-02T18:45:11.445Z"
   },
   {
    "duration": 212,
    "start_time": "2023-12-02T18:51:37.356Z"
   },
   {
    "duration": 358,
    "start_time": "2023-12-02T18:51:43.472Z"
   },
   {
    "duration": 13,
    "start_time": "2023-12-02T18:52:23.614Z"
   },
   {
    "duration": 1591,
    "start_time": "2023-12-02T18:52:33.653Z"
   },
   {
    "duration": 343,
    "start_time": "2023-12-02T18:52:39.522Z"
   },
   {
    "duration": 284,
    "start_time": "2023-12-02T18:52:45.835Z"
   },
   {
    "duration": 285,
    "start_time": "2023-12-02T18:53:25.350Z"
   },
   {
    "duration": 309,
    "start_time": "2023-12-02T18:56:15.990Z"
   },
   {
    "duration": 9,
    "start_time": "2023-12-02T19:05:47.253Z"
   },
   {
    "duration": 343,
    "start_time": "2023-12-02T19:08:58.861Z"
   },
   {
    "duration": 217,
    "start_time": "2023-12-02T19:09:05.630Z"
   },
   {
    "duration": 205,
    "start_time": "2023-12-02T19:09:11.193Z"
   },
   {
    "duration": 302,
    "start_time": "2023-12-02T19:15:46.886Z"
   },
   {
    "duration": 1213,
    "start_time": "2023-12-03T14:39:09.868Z"
   },
   {
    "duration": 183,
    "start_time": "2023-12-03T14:39:11.083Z"
   },
   {
    "duration": 23,
    "start_time": "2023-12-03T14:39:11.267Z"
   },
   {
    "duration": 18,
    "start_time": "2023-12-03T14:39:11.291Z"
   },
   {
    "duration": 12,
    "start_time": "2023-12-03T14:39:11.310Z"
   },
   {
    "duration": 5,
    "start_time": "2023-12-03T14:39:11.324Z"
   },
   {
    "duration": 24,
    "start_time": "2023-12-03T14:39:11.331Z"
   },
   {
    "duration": 10,
    "start_time": "2023-12-03T14:39:11.356Z"
   },
   {
    "duration": 5,
    "start_time": "2023-12-03T14:39:11.367Z"
   },
   {
    "duration": 161,
    "start_time": "2023-12-03T14:39:11.374Z"
   },
   {
    "duration": 144,
    "start_time": "2023-12-03T14:39:11.536Z"
   },
   {
    "duration": 227,
    "start_time": "2023-12-03T14:39:11.681Z"
   },
   {
    "duration": 8,
    "start_time": "2023-12-03T14:39:11.909Z"
   },
   {
    "duration": 275,
    "start_time": "2023-12-03T14:39:11.918Z"
   },
   {
    "duration": 8,
    "start_time": "2023-12-03T14:39:12.194Z"
   },
   {
    "duration": 279,
    "start_time": "2023-12-03T14:39:12.203Z"
   },
   {
    "duration": 28,
    "start_time": "2023-12-03T14:40:01.168Z"
   },
   {
    "duration": 28,
    "start_time": "2023-12-03T14:51:36.148Z"
   },
   {
    "duration": 17,
    "start_time": "2023-12-03T14:52:29.211Z"
   },
   {
    "duration": 24,
    "start_time": "2023-12-03T14:52:39.005Z"
   },
   {
    "duration": 21,
    "start_time": "2023-12-03T14:52:45.737Z"
   },
   {
    "duration": 24,
    "start_time": "2023-12-03T14:52:47.762Z"
   },
   {
    "duration": 29,
    "start_time": "2023-12-03T15:03:17.935Z"
   },
   {
    "duration": 24,
    "start_time": "2023-12-03T15:11:22.998Z"
   },
   {
    "duration": 9,
    "start_time": "2023-12-03T15:11:36.230Z"
   },
   {
    "duration": 423,
    "start_time": "2023-12-03T15:18:52.812Z"
   },
   {
    "duration": 72,
    "start_time": "2023-12-03T15:30:32.159Z"
   },
   {
    "duration": 79,
    "start_time": "2023-12-03T15:30:37.146Z"
   },
   {
    "duration": 96,
    "start_time": "2023-12-03T15:30:41.031Z"
   },
   {
    "duration": 74,
    "start_time": "2023-12-03T15:31:05.220Z"
   },
   {
    "duration": 81,
    "start_time": "2023-12-03T15:34:26.458Z"
   },
   {
    "duration": 273,
    "start_time": "2023-12-03T15:34:57.732Z"
   },
   {
    "duration": 179,
    "start_time": "2023-12-03T15:35:17.327Z"
   },
   {
    "duration": 158,
    "start_time": "2023-12-03T15:56:51.056Z"
   },
   {
    "duration": 235,
    "start_time": "2023-12-03T16:08:26.695Z"
   },
   {
    "duration": 479,
    "start_time": "2023-12-03T16:13:20.168Z"
   },
   {
    "duration": 470,
    "start_time": "2023-12-03T16:13:51.054Z"
   },
   {
    "duration": 306,
    "start_time": "2023-12-03T16:14:41.851Z"
   },
   {
    "duration": 498,
    "start_time": "2023-12-03T16:14:46.413Z"
   },
   {
    "duration": 294,
    "start_time": "2023-12-03T16:14:55.740Z"
   },
   {
    "duration": 41,
    "start_time": "2023-12-03T16:15:35.066Z"
   },
   {
    "duration": 14,
    "start_time": "2023-12-03T16:15:37.312Z"
   },
   {
    "duration": 5,
    "start_time": "2023-12-03T16:15:58.324Z"
   },
   {
    "duration": 9,
    "start_time": "2023-12-03T16:16:02.407Z"
   },
   {
    "duration": 10,
    "start_time": "2023-12-03T16:17:36.131Z"
   },
   {
    "duration": 10,
    "start_time": "2023-12-03T16:27:21.487Z"
   },
   {
    "duration": 9,
    "start_time": "2023-12-03T16:27:23.485Z"
   },
   {
    "duration": 286,
    "start_time": "2023-12-03T16:29:48.811Z"
   },
   {
    "duration": 295,
    "start_time": "2023-12-03T16:29:55.459Z"
   },
   {
    "duration": 285,
    "start_time": "2023-12-03T16:30:02.817Z"
   },
   {
    "duration": 306,
    "start_time": "2023-12-03T16:30:17.485Z"
   },
   {
    "duration": 323,
    "start_time": "2023-12-03T16:30:24.819Z"
   },
   {
    "duration": 382,
    "start_time": "2023-12-03T16:30:35.844Z"
   },
   {
    "duration": 336,
    "start_time": "2023-12-03T16:30:43.141Z"
   },
   {
    "duration": 7,
    "start_time": "2023-12-03T16:31:47.215Z"
   },
   {
    "duration": 9,
    "start_time": "2023-12-03T16:31:51.079Z"
   },
   {
    "duration": 3,
    "start_time": "2023-12-03T17:26:53.372Z"
   },
   {
    "duration": 73,
    "start_time": "2023-12-03T17:26:53.378Z"
   },
   {
    "duration": 21,
    "start_time": "2023-12-03T17:26:53.453Z"
   },
   {
    "duration": 21,
    "start_time": "2023-12-03T17:26:53.476Z"
   },
   {
    "duration": 13,
    "start_time": "2023-12-03T17:26:53.499Z"
   },
   {
    "duration": 6,
    "start_time": "2023-12-03T17:26:53.514Z"
   },
   {
    "duration": 6,
    "start_time": "2023-12-03T17:26:53.551Z"
   },
   {
    "duration": 18,
    "start_time": "2023-12-03T17:26:53.558Z"
   },
   {
    "duration": 5,
    "start_time": "2023-12-03T17:26:53.578Z"
   },
   {
    "duration": 137,
    "start_time": "2023-12-03T17:26:53.585Z"
   },
   {
    "duration": 114,
    "start_time": "2023-12-03T17:26:53.723Z"
   },
   {
    "duration": 247,
    "start_time": "2023-12-03T17:26:53.838Z"
   },
   {
    "duration": 8,
    "start_time": "2023-12-03T17:26:54.087Z"
   },
   {
    "duration": 297,
    "start_time": "2023-12-03T17:26:54.097Z"
   },
   {
    "duration": 18,
    "start_time": "2023-12-03T17:26:54.396Z"
   },
   {
    "duration": 373,
    "start_time": "2023-12-03T17:26:54.416Z"
   },
   {
    "duration": 31,
    "start_time": "2023-12-03T17:26:54.790Z"
   },
   {
    "duration": 10,
    "start_time": "2023-12-03T17:26:54.823Z"
   },
   {
    "duration": 340,
    "start_time": "2023-12-03T17:26:54.835Z"
   },
   {
    "duration": 8,
    "start_time": "2023-12-03T17:26:55.177Z"
   },
   {
    "duration": 15,
    "start_time": "2023-12-03T17:26:55.186Z"
   },
   {
    "duration": 20,
    "start_time": "2023-12-03T17:59:40.585Z"
   },
   {
    "duration": 14,
    "start_time": "2023-12-03T17:59:44.288Z"
   },
   {
    "duration": 22,
    "start_time": "2023-12-03T18:27:15.153Z"
   },
   {
    "duration": 23,
    "start_time": "2023-12-03T18:32:42.515Z"
   },
   {
    "duration": 9,
    "start_time": "2023-12-03T18:35:59.789Z"
   },
   {
    "duration": 15,
    "start_time": "2023-12-03T18:36:04.773Z"
   },
   {
    "duration": 23,
    "start_time": "2023-12-03T18:36:22.050Z"
   },
   {
    "duration": 24,
    "start_time": "2023-12-03T18:57:14.751Z"
   },
   {
    "duration": 10,
    "start_time": "2023-12-03T19:00:39.582Z"
   },
   {
    "duration": 22,
    "start_time": "2023-12-03T19:00:48.923Z"
   },
   {
    "duration": 20,
    "start_time": "2023-12-03T19:01:15.155Z"
   },
   {
    "duration": 30,
    "start_time": "2023-12-03T19:26:00.693Z"
   },
   {
    "duration": 58,
    "start_time": "2023-12-03T19:26:13.716Z"
   },
   {
    "duration": 3,
    "start_time": "2023-12-03T19:26:46.393Z"
   },
   {
    "duration": 72,
    "start_time": "2023-12-03T19:26:46.398Z"
   },
   {
    "duration": 23,
    "start_time": "2023-12-03T19:26:46.472Z"
   },
   {
    "duration": 19,
    "start_time": "2023-12-03T19:26:46.497Z"
   },
   {
    "duration": 13,
    "start_time": "2023-12-03T19:26:46.518Z"
   },
   {
    "duration": 22,
    "start_time": "2023-12-03T19:26:46.532Z"
   },
   {
    "duration": 5,
    "start_time": "2023-12-03T19:26:46.555Z"
   },
   {
    "duration": 10,
    "start_time": "2023-12-03T19:26:46.561Z"
   },
   {
    "duration": 5,
    "start_time": "2023-12-03T19:26:46.572Z"
   },
   {
    "duration": 141,
    "start_time": "2023-12-03T19:26:46.578Z"
   },
   {
    "duration": 111,
    "start_time": "2023-12-03T19:26:46.722Z"
   },
   {
    "duration": 231,
    "start_time": "2023-12-03T19:26:46.834Z"
   },
   {
    "duration": 7,
    "start_time": "2023-12-03T19:26:47.067Z"
   },
   {
    "duration": 305,
    "start_time": "2023-12-03T19:26:47.076Z"
   },
   {
    "duration": 12,
    "start_time": "2023-12-03T19:26:47.383Z"
   },
   {
    "duration": 297,
    "start_time": "2023-12-03T19:26:47.397Z"
   },
   {
    "duration": 29,
    "start_time": "2023-12-03T19:26:47.696Z"
   },
   {
    "duration": 26,
    "start_time": "2023-12-03T19:26:47.726Z"
   },
   {
    "duration": 318,
    "start_time": "2023-12-03T19:26:47.753Z"
   },
   {
    "duration": 8,
    "start_time": "2023-12-03T19:26:48.072Z"
   },
   {
    "duration": 7,
    "start_time": "2023-12-03T19:26:48.082Z"
   },
   {
    "duration": 52,
    "start_time": "2023-12-03T19:26:53.844Z"
   },
   {
    "duration": 54,
    "start_time": "2023-12-03T19:27:03.198Z"
   },
   {
    "duration": 33,
    "start_time": "2023-12-03T19:27:09.678Z"
   },
   {
    "duration": 141,
    "start_time": "2023-12-03T19:29:04.910Z"
   },
   {
    "duration": 25,
    "start_time": "2023-12-03T19:31:23.840Z"
   },
   {
    "duration": 30,
    "start_time": "2023-12-03T19:31:54.385Z"
   },
   {
    "duration": 31,
    "start_time": "2023-12-03T19:57:03.969Z"
   },
   {
    "duration": 33,
    "start_time": "2023-12-03T19:58:51.518Z"
   },
   {
    "duration": 21,
    "start_time": "2023-12-03T19:59:17.961Z"
   },
   {
    "duration": 30,
    "start_time": "2023-12-03T20:00:07.930Z"
   },
   {
    "duration": 39,
    "start_time": "2023-12-03T20:00:22.419Z"
   },
   {
    "duration": 27,
    "start_time": "2023-12-03T20:00:39.617Z"
   },
   {
    "duration": 39,
    "start_time": "2023-12-03T20:01:08.005Z"
   },
   {
    "duration": 29,
    "start_time": "2023-12-03T20:01:55.155Z"
   },
   {
    "duration": 29,
    "start_time": "2023-12-03T20:02:01.049Z"
   },
   {
    "duration": 3,
    "start_time": "2023-12-03T20:05:24.181Z"
   },
   {
    "duration": 67,
    "start_time": "2023-12-03T20:05:24.186Z"
   },
   {
    "duration": 17,
    "start_time": "2023-12-03T20:05:24.255Z"
   },
   {
    "duration": 17,
    "start_time": "2023-12-03T20:05:24.274Z"
   },
   {
    "duration": 13,
    "start_time": "2023-12-03T20:05:24.293Z"
   },
   {
    "duration": 6,
    "start_time": "2023-12-03T20:05:24.307Z"
   },
   {
    "duration": 38,
    "start_time": "2023-12-03T20:05:24.314Z"
   },
   {
    "duration": 10,
    "start_time": "2023-12-03T20:05:24.353Z"
   },
   {
    "duration": 4,
    "start_time": "2023-12-03T20:05:24.365Z"
   },
   {
    "duration": 156,
    "start_time": "2023-12-03T20:05:24.370Z"
   },
   {
    "duration": 113,
    "start_time": "2023-12-03T20:05:24.529Z"
   },
   {
    "duration": 259,
    "start_time": "2023-12-03T20:05:24.643Z"
   },
   {
    "duration": 9,
    "start_time": "2023-12-03T20:05:24.904Z"
   },
   {
    "duration": 310,
    "start_time": "2023-12-03T20:05:24.915Z"
   },
   {
    "duration": 10,
    "start_time": "2023-12-03T20:05:25.227Z"
   },
   {
    "duration": 296,
    "start_time": "2023-12-03T20:05:25.239Z"
   },
   {
    "duration": 30,
    "start_time": "2023-12-03T20:05:25.536Z"
   },
   {
    "duration": 9,
    "start_time": "2023-12-03T20:05:25.568Z"
   },
   {
    "duration": 295,
    "start_time": "2023-12-03T20:05:25.578Z"
   },
   {
    "duration": 7,
    "start_time": "2023-12-03T20:05:25.875Z"
   },
   {
    "duration": 8,
    "start_time": "2023-12-03T20:05:25.884Z"
   },
   {
    "duration": 58,
    "start_time": "2023-12-03T20:05:25.894Z"
   },
   {
    "duration": 49881,
    "start_time": "2023-12-03T20:36:00.194Z"
   },
   {
    "duration": 50429,
    "start_time": "2023-12-03T20:37:23.322Z"
   },
   {
    "duration": 50838,
    "start_time": "2023-12-03T20:50:15.209Z"
   },
   {
    "duration": 49883,
    "start_time": "2023-12-03T20:53:18.439Z"
   },
   {
    "duration": 11,
    "start_time": "2023-12-03T20:55:34.872Z"
   },
   {
    "duration": 49700,
    "start_time": "2023-12-03T20:57:04.908Z"
   },
   {
    "duration": 15,
    "start_time": "2023-12-03T20:58:37.375Z"
   },
   {
    "duration": 9,
    "start_time": "2023-12-03T21:02:34.407Z"
   },
   {
    "duration": 9,
    "start_time": "2023-12-03T21:02:43.187Z"
   },
   {
    "duration": 7,
    "start_time": "2023-12-03T21:02:55.408Z"
   },
   {
    "duration": 7,
    "start_time": "2023-12-03T21:03:11.601Z"
   },
   {
    "duration": 7,
    "start_time": "2023-12-03T21:03:31.899Z"
   },
   {
    "duration": 57255,
    "start_time": "2023-12-03T21:11:39.450Z"
   },
   {
    "duration": 156,
    "start_time": "2023-12-03T21:21:22.596Z"
   },
   {
    "duration": 9,
    "start_time": "2023-12-03T21:33:12.840Z"
   },
   {
    "duration": 35,
    "start_time": "2023-12-03T21:46:14.680Z"
   },
   {
    "duration": 37898,
    "start_time": "2023-12-03T22:02:27.464Z"
   },
   {
    "duration": 1253,
    "start_time": "2023-12-04T10:08:28.436Z"
   },
   {
    "duration": 303,
    "start_time": "2023-12-04T10:08:29.691Z"
   },
   {
    "duration": 23,
    "start_time": "2023-12-04T10:08:29.995Z"
   },
   {
    "duration": 63,
    "start_time": "2023-12-04T10:08:30.019Z"
   },
   {
    "duration": 38,
    "start_time": "2023-12-04T10:08:30.084Z"
   },
   {
    "duration": 51,
    "start_time": "2023-12-04T10:08:30.124Z"
   },
   {
    "duration": 24,
    "start_time": "2023-12-04T10:08:30.177Z"
   },
   {
    "duration": 49,
    "start_time": "2023-12-04T10:08:30.202Z"
   },
   {
    "duration": 26,
    "start_time": "2023-12-04T10:08:30.253Z"
   },
   {
    "duration": 186,
    "start_time": "2023-12-04T10:08:30.280Z"
   },
   {
    "duration": 130,
    "start_time": "2023-12-04T10:08:30.467Z"
   },
   {
    "duration": 263,
    "start_time": "2023-12-04T10:08:30.598Z"
   },
   {
    "duration": 9,
    "start_time": "2023-12-04T10:08:30.863Z"
   },
   {
    "duration": 381,
    "start_time": "2023-12-04T10:08:30.874Z"
   },
   {
    "duration": 8,
    "start_time": "2023-12-04T10:08:31.257Z"
   },
   {
    "duration": 306,
    "start_time": "2023-12-04T10:08:31.267Z"
   },
   {
    "duration": 24,
    "start_time": "2023-12-04T10:08:31.575Z"
   },
   {
    "duration": 23,
    "start_time": "2023-12-04T10:08:31.601Z"
   },
   {
    "duration": 417,
    "start_time": "2023-12-04T10:08:31.625Z"
   },
   {
    "duration": 8,
    "start_time": "2023-12-04T10:08:32.043Z"
   },
   {
    "duration": 47,
    "start_time": "2023-12-04T10:08:32.053Z"
   },
   {
    "duration": 65,
    "start_time": "2023-12-04T10:08:32.102Z"
   },
   {
    "duration": 39869,
    "start_time": "2023-12-04T10:08:32.168Z"
   },
   {
    "duration": 1334,
    "start_time": "2023-12-04T18:22:25.188Z"
   },
   {
    "duration": 192,
    "start_time": "2023-12-04T18:22:26.524Z"
   },
   {
    "duration": 23,
    "start_time": "2023-12-04T18:22:26.717Z"
   },
   {
    "duration": 19,
    "start_time": "2023-12-04T18:22:26.742Z"
   },
   {
    "duration": 15,
    "start_time": "2023-12-04T18:22:26.763Z"
   },
   {
    "duration": 9,
    "start_time": "2023-12-04T18:22:26.779Z"
   },
   {
    "duration": 36,
    "start_time": "2023-12-04T18:22:26.789Z"
   },
   {
    "duration": 11,
    "start_time": "2023-12-04T18:22:26.826Z"
   },
   {
    "duration": 4,
    "start_time": "2023-12-04T18:22:26.839Z"
   },
   {
    "duration": 170,
    "start_time": "2023-12-04T18:22:26.845Z"
   },
   {
    "duration": 141,
    "start_time": "2023-12-04T18:22:27.016Z"
   },
   {
    "duration": 278,
    "start_time": "2023-12-04T18:22:27.159Z"
   },
   {
    "duration": 10,
    "start_time": "2023-12-04T18:22:27.439Z"
   },
   {
    "duration": 342,
    "start_time": "2023-12-04T18:22:27.452Z"
   },
   {
    "duration": 10,
    "start_time": "2023-12-04T18:22:27.796Z"
   },
   {
    "duration": 320,
    "start_time": "2023-12-04T18:22:27.807Z"
   },
   {
    "duration": 27,
    "start_time": "2023-12-04T18:22:28.129Z"
   },
   {
    "duration": 14,
    "start_time": "2023-12-04T18:22:28.158Z"
   },
   {
    "duration": 413,
    "start_time": "2023-12-04T18:22:28.174Z"
   },
   {
    "duration": 10,
    "start_time": "2023-12-04T18:22:28.589Z"
   },
   {
    "duration": 41,
    "start_time": "2023-12-04T18:22:28.601Z"
   },
   {
    "duration": 41,
    "start_time": "2023-12-04T18:22:28.644Z"
   },
   {
    "duration": 41533,
    "start_time": "2023-12-04T18:22:28.687Z"
   },
   {
    "duration": 12,
    "start_time": "2023-12-04T19:18:10.532Z"
   },
   {
    "duration": 13,
    "start_time": "2023-12-04T19:18:58.881Z"
   },
   {
    "duration": 18,
    "start_time": "2023-12-04T19:19:15.903Z"
   },
   {
    "duration": 12,
    "start_time": "2023-12-04T19:19:25.768Z"
   },
   {
    "duration": 16,
    "start_time": "2023-12-04T19:19:35.641Z"
   },
   {
    "duration": 19,
    "start_time": "2023-12-04T19:24:29.558Z"
   },
   {
    "duration": 12,
    "start_time": "2023-12-04T19:25:33.413Z"
   },
   {
    "duration": 9,
    "start_time": "2023-12-04T20:01:02.841Z"
   },
   {
    "duration": 9,
    "start_time": "2023-12-04T20:08:09.417Z"
   },
   {
    "duration": 8,
    "start_time": "2023-12-04T20:08:14.530Z"
   },
   {
    "duration": 16,
    "start_time": "2023-12-04T20:41:31.874Z"
   },
   {
    "duration": 12,
    "start_time": "2023-12-04T20:55:03.049Z"
   },
   {
    "duration": 11,
    "start_time": "2023-12-04T20:55:10.498Z"
   },
   {
    "duration": 60,
    "start_time": "2023-12-05T17:18:10.703Z"
   },
   {
    "duration": 1333,
    "start_time": "2023-12-05T17:18:20.430Z"
   },
   {
    "duration": 302,
    "start_time": "2023-12-05T17:18:21.765Z"
   },
   {
    "duration": 33,
    "start_time": "2023-12-05T17:18:22.069Z"
   },
   {
    "duration": 23,
    "start_time": "2023-12-05T17:18:22.105Z"
   },
   {
    "duration": 14,
    "start_time": "2023-12-05T17:18:22.130Z"
   },
   {
    "duration": 15,
    "start_time": "2023-12-05T17:18:22.146Z"
   },
   {
    "duration": 6,
    "start_time": "2023-12-05T17:18:22.162Z"
   },
   {
    "duration": 38,
    "start_time": "2023-12-05T17:18:22.170Z"
   },
   {
    "duration": 5,
    "start_time": "2023-12-05T17:18:22.209Z"
   },
   {
    "duration": 157,
    "start_time": "2023-12-05T17:18:22.216Z"
   },
   {
    "duration": 119,
    "start_time": "2023-12-05T17:18:22.374Z"
   },
   {
    "duration": 246,
    "start_time": "2023-12-05T17:18:22.499Z"
   },
   {
    "duration": 8,
    "start_time": "2023-12-05T17:18:22.747Z"
   },
   {
    "duration": 291,
    "start_time": "2023-12-05T17:18:22.756Z"
   },
   {
    "duration": 7,
    "start_time": "2023-12-05T17:18:23.049Z"
   },
   {
    "duration": 332,
    "start_time": "2023-12-05T17:18:23.058Z"
   },
   {
    "duration": 28,
    "start_time": "2023-12-05T17:18:23.392Z"
   },
   {
    "duration": 13,
    "start_time": "2023-12-05T17:18:23.422Z"
   },
   {
    "duration": 419,
    "start_time": "2023-12-05T17:18:23.437Z"
   },
   {
    "duration": 8,
    "start_time": "2023-12-05T17:18:23.858Z"
   },
   {
    "duration": 7,
    "start_time": "2023-12-05T17:18:23.867Z"
   },
   {
    "duration": 48,
    "start_time": "2023-12-05T17:18:23.876Z"
   },
   {
    "duration": 39681,
    "start_time": "2023-12-05T17:18:23.925Z"
   },
   {
    "duration": 11,
    "start_time": "2023-12-05T17:19:03.608Z"
   },
   {
    "duration": 8,
    "start_time": "2023-12-05T17:19:03.620Z"
   },
   {
    "duration": 15,
    "start_time": "2023-12-05T17:19:03.629Z"
   },
   {
    "duration": 79,
    "start_time": "2023-12-05T17:19:03.646Z"
   },
   {
    "duration": 234,
    "start_time": "2023-12-05T17:19:16.586Z"
   },
   {
    "duration": 10,
    "start_time": "2023-12-05T17:52:42.241Z"
   },
   {
    "duration": 15,
    "start_time": "2023-12-05T18:44:01.987Z"
   },
   {
    "duration": 4,
    "start_time": "2023-12-05T18:44:09.897Z"
   },
   {
    "duration": 5,
    "start_time": "2023-12-05T18:44:23.630Z"
   },
   {
    "duration": 4,
    "start_time": "2023-12-05T18:44:28.573Z"
   },
   {
    "duration": 3,
    "start_time": "2023-12-05T18:44:48.371Z"
   },
   {
    "duration": 4,
    "start_time": "2023-12-05T18:45:13.882Z"
   },
   {
    "duration": 4,
    "start_time": "2023-12-05T18:45:30.314Z"
   },
   {
    "duration": 4,
    "start_time": "2023-12-05T18:46:33.584Z"
   },
   {
    "duration": 4,
    "start_time": "2023-12-05T18:49:33.349Z"
   },
   {
    "duration": 4,
    "start_time": "2023-12-05T18:49:40.935Z"
   },
   {
    "duration": 5,
    "start_time": "2023-12-05T18:49:54.876Z"
   },
   {
    "duration": 4,
    "start_time": "2023-12-05T18:49:58.402Z"
   },
   {
    "duration": 5,
    "start_time": "2023-12-05T18:50:01.705Z"
   },
   {
    "duration": 5,
    "start_time": "2023-12-05T18:50:04.837Z"
   },
   {
    "duration": 4,
    "start_time": "2023-12-05T18:50:07.671Z"
   },
   {
    "duration": 6,
    "start_time": "2023-12-05T18:50:42.967Z"
   },
   {
    "duration": 4,
    "start_time": "2023-12-05T18:50:46.645Z"
   },
   {
    "duration": 4,
    "start_time": "2023-12-05T18:50:52.690Z"
   },
   {
    "duration": 6,
    "start_time": "2023-12-05T18:50:57.794Z"
   },
   {
    "duration": 4,
    "start_time": "2023-12-05T18:51:01.960Z"
   },
   {
    "duration": 4,
    "start_time": "2023-12-05T18:51:06.061Z"
   },
   {
    "duration": 5,
    "start_time": "2023-12-05T18:51:10.327Z"
   },
   {
    "duration": 5,
    "start_time": "2023-12-05T18:51:31.680Z"
   },
   {
    "duration": 5,
    "start_time": "2023-12-05T18:51:35.546Z"
   },
   {
    "duration": 5,
    "start_time": "2023-12-05T18:51:38.726Z"
   },
   {
    "duration": 5,
    "start_time": "2023-12-05T18:51:41.510Z"
   },
   {
    "duration": 5,
    "start_time": "2023-12-05T18:51:44.861Z"
   },
   {
    "duration": 5,
    "start_time": "2023-12-05T18:51:48.026Z"
   },
   {
    "duration": 10,
    "start_time": "2023-12-05T18:52:31.571Z"
   },
   {
    "duration": 6,
    "start_time": "2023-12-05T18:52:37.679Z"
   },
   {
    "duration": 4,
    "start_time": "2023-12-05T18:53:03.850Z"
   },
   {
    "duration": 4,
    "start_time": "2023-12-05T18:53:24.150Z"
   },
   {
    "duration": 3,
    "start_time": "2023-12-05T19:00:10.177Z"
   },
   {
    "duration": 7,
    "start_time": "2023-12-05T19:01:54.256Z"
   },
   {
    "duration": 5,
    "start_time": "2023-12-05T19:29:12.977Z"
   },
   {
    "duration": 4,
    "start_time": "2023-12-05T19:29:22.716Z"
   },
   {
    "duration": 5,
    "start_time": "2023-12-05T19:29:37.926Z"
   },
   {
    "duration": 5,
    "start_time": "2023-12-05T19:37:59.350Z"
   },
   {
    "duration": 4,
    "start_time": "2023-12-05T19:38:02.752Z"
   },
   {
    "duration": 5,
    "start_time": "2023-12-05T19:40:22.572Z"
   },
   {
    "duration": 4,
    "start_time": "2023-12-05T19:41:08.996Z"
   },
   {
    "duration": 5,
    "start_time": "2023-12-05T19:44:56.764Z"
   },
   {
    "duration": 4,
    "start_time": "2023-12-05T19:45:00.823Z"
   },
   {
    "duration": 134,
    "start_time": "2023-12-05T19:56:51.879Z"
   },
   {
    "duration": 125,
    "start_time": "2023-12-05T19:58:10.558Z"
   },
   {
    "duration": 132,
    "start_time": "2023-12-05T20:00:23.486Z"
   },
   {
    "duration": 139,
    "start_time": "2023-12-05T20:00:30.701Z"
   },
   {
    "duration": 134,
    "start_time": "2023-12-05T20:00:36.730Z"
   },
   {
    "duration": 5,
    "start_time": "2023-12-05T20:18:08.316Z"
   },
   {
    "duration": 748,
    "start_time": "2023-12-05T20:50:36.680Z"
   },
   {
    "duration": 6,
    "start_time": "2023-12-05T20:51:39.300Z"
   },
   {
    "duration": 18,
    "start_time": "2023-12-05T20:52:04.864Z"
   },
   {
    "duration": 689,
    "start_time": "2023-12-05T20:52:22.183Z"
   },
   {
    "duration": 5,
    "start_time": "2023-12-05T20:52:28.631Z"
   },
   {
    "duration": 17,
    "start_time": "2023-12-05T20:52:39.298Z"
   },
   {
    "duration": 5,
    "start_time": "2023-12-05T20:52:44.865Z"
   },
   {
    "duration": 6,
    "start_time": "2023-12-05T20:55:44.832Z"
   },
   {
    "duration": 27,
    "start_time": "2023-12-05T20:55:50.412Z"
   },
   {
    "duration": 4,
    "start_time": "2023-12-05T20:55:55.064Z"
   },
   {
    "duration": 3,
    "start_time": "2023-12-05T20:56:16.093Z"
   },
   {
    "duration": 73,
    "start_time": "2023-12-05T20:56:16.099Z"
   },
   {
    "duration": 17,
    "start_time": "2023-12-05T20:56:16.175Z"
   },
   {
    "duration": 17,
    "start_time": "2023-12-05T20:56:16.194Z"
   },
   {
    "duration": 13,
    "start_time": "2023-12-05T20:56:16.213Z"
   },
   {
    "duration": 6,
    "start_time": "2023-12-05T20:56:16.228Z"
   },
   {
    "duration": 7,
    "start_time": "2023-12-05T20:56:16.235Z"
   },
   {
    "duration": 15,
    "start_time": "2023-12-05T20:56:16.243Z"
   },
   {
    "duration": 13,
    "start_time": "2023-12-05T20:56:16.259Z"
   },
   {
    "duration": 160,
    "start_time": "2023-12-05T20:56:16.274Z"
   },
   {
    "duration": 119,
    "start_time": "2023-12-05T20:56:16.436Z"
   },
   {
    "duration": 265,
    "start_time": "2023-12-05T20:56:16.557Z"
   },
   {
    "duration": 8,
    "start_time": "2023-12-05T20:56:16.824Z"
   },
   {
    "duration": 401,
    "start_time": "2023-12-05T20:56:16.834Z"
   },
   {
    "duration": 9,
    "start_time": "2023-12-05T20:56:17.236Z"
   },
   {
    "duration": 296,
    "start_time": "2023-12-05T20:56:17.246Z"
   },
   {
    "duration": 24,
    "start_time": "2023-12-05T20:56:17.544Z"
   },
   {
    "duration": 11,
    "start_time": "2023-12-05T20:56:17.569Z"
   },
   {
    "duration": 19,
    "start_time": "2023-12-05T20:56:22.447Z"
   },
   {
    "duration": 9,
    "start_time": "2023-12-05T20:56:41.948Z"
   },
   {
    "duration": 9,
    "start_time": "2023-12-05T20:57:01.654Z"
   },
   {
    "duration": 9,
    "start_time": "2023-12-05T20:58:03.086Z"
   },
   {
    "duration": 4,
    "start_time": "2023-12-05T21:00:31.018Z"
   },
   {
    "duration": 111,
    "start_time": "2023-12-05T21:00:31.024Z"
   },
   {
    "duration": 29,
    "start_time": "2023-12-05T21:00:31.137Z"
   },
   {
    "duration": 40,
    "start_time": "2023-12-05T21:00:31.168Z"
   },
   {
    "duration": 47,
    "start_time": "2023-12-05T21:00:31.210Z"
   },
   {
    "duration": 90,
    "start_time": "2023-12-05T21:00:31.259Z"
   },
   {
    "duration": 58,
    "start_time": "2023-12-05T21:00:31.350Z"
   },
   {
    "duration": 56,
    "start_time": "2023-12-05T21:00:31.410Z"
   },
   {
    "duration": 58,
    "start_time": "2023-12-05T21:00:31.469Z"
   },
   {
    "duration": 180,
    "start_time": "2023-12-05T21:00:31.529Z"
   },
   {
    "duration": 128,
    "start_time": "2023-12-05T21:00:31.713Z"
   },
   {
    "duration": 320,
    "start_time": "2023-12-05T21:00:31.842Z"
   },
   {
    "duration": 10,
    "start_time": "2023-12-05T21:00:32.164Z"
   },
   {
    "duration": 350,
    "start_time": "2023-12-05T21:00:32.176Z"
   },
   {
    "duration": 10,
    "start_time": "2023-12-05T21:00:32.528Z"
   },
   {
    "duration": 454,
    "start_time": "2023-12-05T21:00:32.539Z"
   },
   {
    "duration": 30,
    "start_time": "2023-12-05T21:00:32.995Z"
   },
   {
    "duration": 25,
    "start_time": "2023-12-05T21:00:33.026Z"
   },
   {
    "duration": 327,
    "start_time": "2023-12-05T21:00:33.053Z"
   },
   {
    "duration": 35,
    "start_time": "2023-12-05T21:00:33.382Z"
   },
   {
    "duration": 39980,
    "start_time": "2023-12-05T21:00:33.419Z"
   },
   {
    "duration": 12,
    "start_time": "2023-12-05T21:01:13.400Z"
   },
   {
    "duration": 18,
    "start_time": "2023-12-05T21:01:13.413Z"
   },
   {
    "duration": 14,
    "start_time": "2023-12-05T21:01:13.433Z"
   },
   {
    "duration": 5,
    "start_time": "2023-12-05T21:01:13.450Z"
   },
   {
    "duration": 159,
    "start_time": "2023-12-05T21:01:13.456Z"
   },
   {
    "duration": 4,
    "start_time": "2023-12-05T21:01:13.617Z"
   },
   {
    "duration": 12,
    "start_time": "2023-12-05T21:37:33.785Z"
   },
   {
    "duration": 1181,
    "start_time": "2023-12-05T22:28:52.596Z"
   },
   {
    "duration": 69,
    "start_time": "2023-12-05T22:28:53.779Z"
   },
   {
    "duration": 23,
    "start_time": "2023-12-05T22:28:53.850Z"
   },
   {
    "duration": 21,
    "start_time": "2023-12-05T22:28:53.875Z"
   },
   {
    "duration": 18,
    "start_time": "2023-12-05T22:28:53.899Z"
   },
   {
    "duration": 15,
    "start_time": "2023-12-05T22:28:53.919Z"
   },
   {
    "duration": 20,
    "start_time": "2023-12-05T22:28:53.936Z"
   },
   {
    "duration": 24,
    "start_time": "2023-12-05T22:28:53.958Z"
   },
   {
    "duration": 9,
    "start_time": "2023-12-05T22:28:53.984Z"
   },
   {
    "duration": 163,
    "start_time": "2023-12-05T22:28:53.995Z"
   },
   {
    "duration": 126,
    "start_time": "2023-12-05T22:28:54.159Z"
   },
   {
    "duration": 263,
    "start_time": "2023-12-05T22:28:54.287Z"
   },
   {
    "duration": 10,
    "start_time": "2023-12-05T22:28:54.552Z"
   },
   {
    "duration": 319,
    "start_time": "2023-12-05T22:28:54.565Z"
   },
   {
    "duration": 8,
    "start_time": "2023-12-05T22:28:54.886Z"
   },
   {
    "duration": 331,
    "start_time": "2023-12-05T22:28:54.896Z"
   },
   {
    "duration": 26,
    "start_time": "2023-12-05T22:28:55.229Z"
   },
   {
    "duration": 20,
    "start_time": "2023-12-05T22:28:55.257Z"
   },
   {
    "duration": 413,
    "start_time": "2023-12-05T22:28:55.279Z"
   },
   {
    "duration": 36,
    "start_time": "2023-12-05T22:28:55.693Z"
   },
   {
    "duration": 1664,
    "start_time": "2023-12-06T04:30:35.472Z"
   },
   {
    "duration": 189,
    "start_time": "2023-12-06T04:30:37.137Z"
   },
   {
    "duration": 19,
    "start_time": "2023-12-06T04:30:37.327Z"
   },
   {
    "duration": 70,
    "start_time": "2023-12-06T04:30:37.347Z"
   },
   {
    "duration": 17,
    "start_time": "2023-12-06T04:30:37.420Z"
   },
   {
    "duration": 6,
    "start_time": "2023-12-06T04:30:37.438Z"
   },
   {
    "duration": 70,
    "start_time": "2023-12-06T04:30:37.445Z"
   },
   {
    "duration": 9,
    "start_time": "2023-12-06T04:30:37.516Z"
   },
   {
    "duration": 4,
    "start_time": "2023-12-06T04:30:37.526Z"
   },
   {
    "duration": 230,
    "start_time": "2023-12-06T04:30:37.531Z"
   },
   {
    "duration": 276,
    "start_time": "2023-12-06T04:30:37.762Z"
   },
   {
    "duration": 503,
    "start_time": "2023-12-06T04:30:38.039Z"
   },
   {
    "duration": 7,
    "start_time": "2023-12-06T04:30:38.544Z"
   },
   {
    "duration": 497,
    "start_time": "2023-12-06T04:30:38.554Z"
   },
   {
    "duration": 65,
    "start_time": "2023-12-06T04:30:39.052Z"
   },
   {
    "duration": 507,
    "start_time": "2023-12-06T04:30:39.118Z"
   },
   {
    "duration": 28,
    "start_time": "2023-12-06T04:30:39.627Z"
   },
   {
    "duration": 70,
    "start_time": "2023-12-06T04:30:39.656Z"
   },
   {
    "duration": 629,
    "start_time": "2023-12-06T04:30:39.728Z"
   },
   {
    "duration": 80,
    "start_time": "2023-12-06T04:30:40.359Z"
   },
   {
    "duration": 37029,
    "start_time": "2023-12-06T04:30:40.440Z"
   },
   {
    "duration": 9,
    "start_time": "2023-12-06T04:31:17.471Z"
   },
   {
    "duration": 6,
    "start_time": "2023-12-06T04:31:17.481Z"
   },
   {
    "duration": 27,
    "start_time": "2023-12-06T04:31:17.489Z"
   },
   {
    "duration": 4,
    "start_time": "2023-12-06T04:31:17.517Z"
   },
   {
    "duration": 127,
    "start_time": "2023-12-06T04:31:17.523Z"
   },
   {
    "duration": 4,
    "start_time": "2023-12-06T04:31:17.651Z"
   },
   {
    "duration": 85,
    "start_time": "2023-12-06T04:36:39.174Z"
   },
   {
    "duration": 87,
    "start_time": "2023-12-06T04:37:03.077Z"
   },
   {
    "duration": 13,
    "start_time": "2023-12-06T04:37:08.837Z"
   },
   {
    "duration": 50,
    "start_time": "2023-12-06T11:00:23.918Z"
   },
   {
    "duration": 1371,
    "start_time": "2023-12-06T11:00:27.893Z"
   },
   {
    "duration": 193,
    "start_time": "2023-12-06T11:00:29.266Z"
   },
   {
    "duration": 24,
    "start_time": "2023-12-06T11:00:29.461Z"
   },
   {
    "duration": 19,
    "start_time": "2023-12-06T11:00:29.487Z"
   },
   {
    "duration": 15,
    "start_time": "2023-12-06T11:00:29.507Z"
   },
   {
    "duration": 7,
    "start_time": "2023-12-06T11:00:29.523Z"
   },
   {
    "duration": 6,
    "start_time": "2023-12-06T11:00:29.532Z"
   },
   {
    "duration": 11,
    "start_time": "2023-12-06T11:00:29.539Z"
   },
   {
    "duration": 34,
    "start_time": "2023-12-06T11:00:29.551Z"
   },
   {
    "duration": 141,
    "start_time": "2023-12-06T11:00:36.086Z"
   },
   {
    "duration": 7,
    "start_time": "2023-12-06T11:01:27.621Z"
   },
   {
    "duration": 74,
    "start_time": "2023-12-06T11:04:31.815Z"
   },
   {
    "duration": 66,
    "start_time": "2023-12-06T11:09:49.715Z"
   },
   {
    "duration": 72,
    "start_time": "2023-12-06T11:10:16.484Z"
   },
   {
    "duration": 75,
    "start_time": "2023-12-06T11:10:32.856Z"
   },
   {
    "duration": 76,
    "start_time": "2023-12-06T11:10:58.394Z"
   },
   {
    "duration": 93,
    "start_time": "2023-12-06T11:11:03.923Z"
   },
   {
    "duration": 81,
    "start_time": "2023-12-06T11:11:09.267Z"
   },
   {
    "duration": 78,
    "start_time": "2023-12-06T11:12:16.776Z"
   },
   {
    "duration": 78,
    "start_time": "2023-12-06T11:13:10.864Z"
   },
   {
    "duration": 82,
    "start_time": "2023-12-06T11:13:24.702Z"
   },
   {
    "duration": 89,
    "start_time": "2023-12-06T11:13:30.115Z"
   },
   {
    "duration": 81,
    "start_time": "2023-12-06T11:13:41.836Z"
   },
   {
    "duration": 134,
    "start_time": "2023-12-06T11:14:01.520Z"
   },
   {
    "duration": 94,
    "start_time": "2023-12-06T11:26:52.000Z"
   },
   {
    "duration": 78,
    "start_time": "2023-12-06T11:27:53.258Z"
   },
   {
    "duration": 86,
    "start_time": "2023-12-06T11:30:21.113Z"
   },
   {
    "duration": 85,
    "start_time": "2023-12-06T11:30:28.398Z"
   },
   {
    "duration": 77,
    "start_time": "2023-12-06T11:30:33.447Z"
   },
   {
    "duration": 78,
    "start_time": "2023-12-06T11:30:44.024Z"
   },
   {
    "duration": 81,
    "start_time": "2023-12-06T11:30:49.797Z"
   },
   {
    "duration": 71,
    "start_time": "2023-12-06T11:30:54.402Z"
   },
   {
    "duration": 80,
    "start_time": "2023-12-06T11:31:02.374Z"
   },
   {
    "duration": 78,
    "start_time": "2023-12-06T11:31:14.049Z"
   },
   {
    "duration": 74,
    "start_time": "2023-12-06T12:21:39.655Z"
   },
   {
    "duration": 89,
    "start_time": "2023-12-06T12:21:56.360Z"
   },
   {
    "duration": 89,
    "start_time": "2023-12-06T12:22:32.933Z"
   },
   {
    "duration": 150,
    "start_time": "2023-12-06T12:22:44.566Z"
   },
   {
    "duration": 124,
    "start_time": "2023-12-06T12:22:56.645Z"
   },
   {
    "duration": 131,
    "start_time": "2023-12-06T12:22:59.564Z"
   },
   {
    "duration": 126,
    "start_time": "2023-12-06T12:23:07.049Z"
   },
   {
    "duration": 144,
    "start_time": "2023-12-06T12:23:30.274Z"
   },
   {
    "duration": 123,
    "start_time": "2023-12-06T12:23:39.934Z"
   },
   {
    "duration": 137,
    "start_time": "2023-12-06T12:23:45.115Z"
   },
   {
    "duration": 151,
    "start_time": "2023-12-06T12:23:52.442Z"
   },
   {
    "duration": 180,
    "start_time": "2023-12-06T12:24:49.589Z"
   },
   {
    "duration": 254,
    "start_time": "2023-12-06T12:25:34.073Z"
   },
   {
    "duration": 129,
    "start_time": "2023-12-06T12:25:45.947Z"
   },
   {
    "duration": 257,
    "start_time": "2023-12-06T12:25:48.782Z"
   },
   {
    "duration": 74,
    "start_time": "2023-12-06T12:25:54.686Z"
   },
   {
    "duration": 243,
    "start_time": "2023-12-06T12:25:57.223Z"
   },
   {
    "duration": 136,
    "start_time": "2023-12-06T12:26:06.384Z"
   },
   {
    "duration": 9,
    "start_time": "2023-12-06T12:28:39.492Z"
   },
   {
    "duration": 270,
    "start_time": "2023-12-06T12:32:33.644Z"
   },
   {
    "duration": 294,
    "start_time": "2023-12-06T12:33:21.600Z"
   },
   {
    "duration": 351,
    "start_time": "2023-12-06T12:33:34.793Z"
   },
   {
    "duration": 85,
    "start_time": "2023-12-06T12:40:32.240Z"
   },
   {
    "duration": 89,
    "start_time": "2023-12-06T12:41:04.981Z"
   },
   {
    "duration": 8,
    "start_time": "2023-12-06T12:43:13.952Z"
   },
   {
    "duration": 3,
    "start_time": "2023-12-06T12:43:17.889Z"
   },
   {
    "duration": 177,
    "start_time": "2023-12-06T12:49:34.801Z"
   },
   {
    "duration": 174,
    "start_time": "2023-12-06T12:49:41.983Z"
   },
   {
    "duration": 3,
    "start_time": "2023-12-06T12:49:55.939Z"
   },
   {
    "duration": 77,
    "start_time": "2023-12-06T12:49:55.943Z"
   },
   {
    "duration": 18,
    "start_time": "2023-12-06T12:49:56.021Z"
   },
   {
    "duration": 18,
    "start_time": "2023-12-06T12:49:56.040Z"
   },
   {
    "duration": 23,
    "start_time": "2023-12-06T12:49:56.060Z"
   },
   {
    "duration": 13,
    "start_time": "2023-12-06T12:49:56.084Z"
   },
   {
    "duration": 6,
    "start_time": "2023-12-06T12:49:56.098Z"
   },
   {
    "duration": 10,
    "start_time": "2023-12-06T12:49:56.105Z"
   },
   {
    "duration": 10,
    "start_time": "2023-12-06T12:49:56.116Z"
   },
   {
    "duration": 140,
    "start_time": "2023-12-06T12:49:56.128Z"
   },
   {
    "duration": 13,
    "start_time": "2023-12-06T12:49:56.270Z"
   },
   {
    "duration": 88,
    "start_time": "2023-12-06T12:49:56.285Z"
   },
   {
    "duration": 261,
    "start_time": "2023-12-06T12:49:56.381Z"
   },
   {
    "duration": 7,
    "start_time": "2023-12-06T12:49:56.643Z"
   },
   {
    "duration": 32,
    "start_time": "2023-12-06T12:49:56.652Z"
   },
   {
    "duration": 303,
    "start_time": "2023-12-06T12:49:56.686Z"
   },
   {
    "duration": 10,
    "start_time": "2023-12-06T12:49:56.990Z"
   },
   {
    "duration": 303,
    "start_time": "2023-12-06T12:49:57.001Z"
   },
   {
    "duration": 29,
    "start_time": "2023-12-06T12:49:57.306Z"
   },
   {
    "duration": 10,
    "start_time": "2023-12-06T12:49:57.336Z"
   },
   {
    "duration": 299,
    "start_time": "2023-12-06T12:50:01.215Z"
   },
   {
    "duration": 1266,
    "start_time": "2023-12-06T12:50:36.558Z"
   },
   {
    "duration": 3,
    "start_time": "2023-12-06T12:50:46.134Z"
   },
   {
    "duration": 86,
    "start_time": "2023-12-06T12:50:46.138Z"
   },
   {
    "duration": 17,
    "start_time": "2023-12-06T12:50:46.225Z"
   },
   {
    "duration": 24,
    "start_time": "2023-12-06T12:50:46.243Z"
   },
   {
    "duration": 33,
    "start_time": "2023-12-06T12:50:46.269Z"
   },
   {
    "duration": 31,
    "start_time": "2023-12-06T12:50:46.304Z"
   },
   {
    "duration": 27,
    "start_time": "2023-12-06T12:50:46.337Z"
   },
   {
    "duration": 37,
    "start_time": "2023-12-06T12:50:46.365Z"
   },
   {
    "duration": 19,
    "start_time": "2023-12-06T12:50:46.404Z"
   },
   {
    "duration": 137,
    "start_time": "2023-12-06T12:50:46.425Z"
   },
   {
    "duration": 7,
    "start_time": "2023-12-06T12:50:46.564Z"
   },
   {
    "duration": 117,
    "start_time": "2023-12-06T12:50:46.573Z"
   },
   {
    "duration": 376,
    "start_time": "2023-12-06T12:50:46.691Z"
   },
   {
    "duration": 14,
    "start_time": "2023-12-06T12:50:47.069Z"
   },
   {
    "duration": 40,
    "start_time": "2023-12-06T12:50:47.085Z"
   },
   {
    "duration": 278,
    "start_time": "2023-12-06T12:50:47.127Z"
   },
   {
    "duration": 9,
    "start_time": "2023-12-06T12:50:47.406Z"
   },
   {
    "duration": 291,
    "start_time": "2023-12-06T12:50:47.417Z"
   },
   {
    "duration": 24,
    "start_time": "2023-12-06T12:50:47.710Z"
   },
   {
    "duration": 13,
    "start_time": "2023-12-06T12:50:47.736Z"
   },
   {
    "duration": 315,
    "start_time": "2023-12-06T12:50:47.751Z"
   },
   {
    "duration": 1117,
    "start_time": "2023-12-06T12:50:53.455Z"
   },
   {
    "duration": 14,
    "start_time": "2023-12-06T12:51:10.854Z"
   },
   {
    "duration": 3,
    "start_time": "2023-12-06T12:51:17.328Z"
   },
   {
    "duration": 30,
    "start_time": "2023-12-06T12:51:20.825Z"
   },
   {
    "duration": 39414,
    "start_time": "2023-12-06T12:51:58.533Z"
   },
   {
    "duration": 5,
    "start_time": "2023-12-06T12:56:02.516Z"
   },
   {
    "duration": 3,
    "start_time": "2023-12-06T12:56:15.450Z"
   },
   {
    "duration": 17,
    "start_time": "2023-12-06T12:56:27.092Z"
   },
   {
    "duration": 5,
    "start_time": "2023-12-06T12:56:49.128Z"
   },
   {
    "duration": 5,
    "start_time": "2023-12-06T12:57:25.611Z"
   },
   {
    "duration": 114,
    "start_time": "2023-12-06T14:43:22.314Z"
   },
   {
    "duration": 135,
    "start_time": "2023-12-06T14:44:03.699Z"
   },
   {
    "duration": 148,
    "start_time": "2023-12-06T14:44:28.462Z"
   },
   {
    "duration": 150,
    "start_time": "2023-12-06T14:44:31.522Z"
   },
   {
    "duration": 98,
    "start_time": "2023-12-06T14:45:18.733Z"
   },
   {
    "duration": 5,
    "start_time": "2023-12-06T14:45:24.450Z"
   },
   {
    "duration": 157,
    "start_time": "2023-12-06T14:45:29.325Z"
   },
   {
    "duration": 3,
    "start_time": "2023-12-06T14:47:37.167Z"
   },
   {
    "duration": 77,
    "start_time": "2023-12-06T14:47:37.172Z"
   },
   {
    "duration": 21,
    "start_time": "2023-12-06T14:47:37.251Z"
   },
   {
    "duration": 17,
    "start_time": "2023-12-06T14:47:37.274Z"
   },
   {
    "duration": 16,
    "start_time": "2023-12-06T14:47:37.292Z"
   },
   {
    "duration": 9,
    "start_time": "2023-12-06T14:47:37.310Z"
   },
   {
    "duration": 9,
    "start_time": "2023-12-06T14:47:37.321Z"
   },
   {
    "duration": 11,
    "start_time": "2023-12-06T14:47:37.331Z"
   },
   {
    "duration": 18,
    "start_time": "2023-12-06T14:47:37.343Z"
   },
   {
    "duration": 158,
    "start_time": "2023-12-06T14:47:37.363Z"
   },
   {
    "duration": 8,
    "start_time": "2023-12-06T14:47:37.523Z"
   },
   {
    "duration": 95,
    "start_time": "2023-12-06T14:47:37.532Z"
   },
   {
    "duration": 259,
    "start_time": "2023-12-06T14:47:37.629Z"
   },
   {
    "duration": 7,
    "start_time": "2023-12-06T14:47:37.890Z"
   },
   {
    "duration": 9,
    "start_time": "2023-12-06T14:47:37.898Z"
   },
   {
    "duration": 447,
    "start_time": "2023-12-06T14:47:37.909Z"
   },
   {
    "duration": 8,
    "start_time": "2023-12-06T14:47:38.357Z"
   },
   {
    "duration": 295,
    "start_time": "2023-12-06T14:47:38.366Z"
   },
   {
    "duration": 31,
    "start_time": "2023-12-06T14:47:38.663Z"
   },
   {
    "duration": 11,
    "start_time": "2023-12-06T14:47:38.696Z"
   },
   {
    "duration": 5,
    "start_time": "2023-12-06T14:47:38.709Z"
   },
   {
    "duration": 313,
    "start_time": "2023-12-06T14:47:38.716Z"
   },
   {
    "duration": 3,
    "start_time": "2023-12-06T14:47:39.031Z"
   },
   {
    "duration": 29,
    "start_time": "2023-12-06T14:47:39.035Z"
   },
   {
    "duration": 40096,
    "start_time": "2023-12-06T14:47:39.066Z"
   },
   {
    "duration": 23,
    "start_time": "2023-12-06T14:48:19.163Z"
   },
   {
    "duration": 8,
    "start_time": "2023-12-06T14:48:19.188Z"
   },
   {
    "duration": 12,
    "start_time": "2023-12-06T14:48:19.197Z"
   },
   {
    "duration": 10,
    "start_time": "2023-12-06T14:48:19.212Z"
   },
   {
    "duration": 164,
    "start_time": "2023-12-06T14:48:19.223Z"
   },
   {
    "duration": 4,
    "start_time": "2023-12-06T14:49:19.339Z"
   },
   {
    "duration": 1265,
    "start_time": "2023-12-06T15:47:56.213Z"
   },
   {
    "duration": 306,
    "start_time": "2023-12-06T15:47:57.480Z"
   },
   {
    "duration": 21,
    "start_time": "2023-12-06T15:47:57.787Z"
   },
   {
    "duration": 21,
    "start_time": "2023-12-06T15:47:57.810Z"
   },
   {
    "duration": 13,
    "start_time": "2023-12-06T15:47:57.833Z"
   },
   {
    "duration": 16,
    "start_time": "2023-12-06T15:47:57.848Z"
   },
   {
    "duration": 21,
    "start_time": "2023-12-06T15:47:57.866Z"
   },
   {
    "duration": 23,
    "start_time": "2023-12-06T15:47:57.888Z"
   },
   {
    "duration": 4,
    "start_time": "2023-12-06T15:47:57.913Z"
   },
   {
    "duration": 156,
    "start_time": "2023-12-06T15:47:57.919Z"
   },
   {
    "duration": 7,
    "start_time": "2023-12-06T15:47:58.077Z"
   },
   {
    "duration": 95,
    "start_time": "2023-12-06T15:47:58.085Z"
   },
   {
    "duration": 261,
    "start_time": "2023-12-06T15:47:58.182Z"
   },
   {
    "duration": 7,
    "start_time": "2023-12-06T15:47:58.446Z"
   },
   {
    "duration": 16,
    "start_time": "2023-12-06T15:47:58.455Z"
   },
   {
    "duration": 297,
    "start_time": "2023-12-06T15:47:58.473Z"
   },
   {
    "duration": 8,
    "start_time": "2023-12-06T15:47:58.771Z"
   },
   {
    "duration": 301,
    "start_time": "2023-12-06T15:47:58.781Z"
   },
   {
    "duration": 30,
    "start_time": "2023-12-06T15:47:59.083Z"
   },
   {
    "duration": 11,
    "start_time": "2023-12-06T15:47:59.115Z"
   },
   {
    "duration": 22,
    "start_time": "2023-12-06T15:47:59.127Z"
   },
   {
    "duration": 307,
    "start_time": "2023-12-06T15:47:59.150Z"
   },
   {
    "duration": 3,
    "start_time": "2023-12-06T15:47:59.458Z"
   },
   {
    "duration": 56,
    "start_time": "2023-12-06T15:47:59.462Z"
   },
   {
    "duration": 38764,
    "start_time": "2023-12-06T15:47:59.519Z"
   },
   {
    "duration": 10,
    "start_time": "2023-12-06T15:48:38.285Z"
   },
   {
    "duration": 32,
    "start_time": "2023-12-06T15:48:38.297Z"
   },
   {
    "duration": 48,
    "start_time": "2023-12-06T15:48:38.331Z"
   },
   {
    "duration": 4,
    "start_time": "2023-12-06T15:48:38.381Z"
   },
   {
    "duration": 173,
    "start_time": "2023-12-06T15:48:38.386Z"
   },
   {
    "duration": 4,
    "start_time": "2023-12-06T15:48:38.561Z"
   }
  ],
  "kernelspec": {
   "display_name": "Python 3 (ipykernel)",
   "language": "python",
   "name": "python3"
  },
  "language_info": {
   "codemirror_mode": {
    "name": "ipython",
    "version": 3
   },
   "file_extension": ".py",
   "mimetype": "text/x-python",
   "name": "python",
   "nbconvert_exporter": "python",
   "pygments_lexer": "ipython3",
   "version": "3.9.5"
  },
  "toc": {
   "base_numbering": 1,
   "nav_menu": {},
   "number_sections": true,
   "sideBar": true,
   "skip_h1_title": true,
   "title_cell": "Table of Contents",
   "title_sidebar": "Contents",
   "toc_cell": false,
   "toc_position": {},
   "toc_section_display": true,
   "toc_window_display": false
  }
 },
 "nbformat": 4,
 "nbformat_minor": 5
}
